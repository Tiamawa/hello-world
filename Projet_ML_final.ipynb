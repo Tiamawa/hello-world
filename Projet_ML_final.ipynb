{
  "nbformat": 4,
  "nbformat_minor": 0,
  "metadata": {
    "colab": {
      "name": "Projet_ML_final.ipynb",
      "provenance": [],
      "collapsed_sections": [
        "vO1B0veWQfZ0",
        "ndYfOIGdZ_2A",
        "nsa-_N8rDkY2",
        "7k4xCd1xrc9a",
        "zYCJIWburvoz",
        "qklSqv6XuKZO",
        "ZQfjhDQVHSSK",
        "TFCaVHXnMr0r",
        "EU-sf60U8kZb",
        "KI6V7Rl9P1et",
        "75TaXsYV08JN"
      ],
      "include_colab_link": true
    },
    "kernelspec": {
      "name": "python3",
      "display_name": "Python 3"
    },
    "language_info": {
      "name": "python"
    }
  },
  "cells": [
    {
      "cell_type": "markdown",
      "metadata": {
        "id": "view-in-github",
        "colab_type": "text"
      },
      "source": [
        "<a href=\"https://colab.research.google.com/github/Tiamawa/hello-world/blob/master/Projet_ML_final.ipynb\" target=\"_parent\"><img src=\"https://colab.research.google.com/assets/colab-badge.svg\" alt=\"Open In Colab\"/></a>"
      ]
    },
    {
      "cell_type": "markdown",
      "source": [
        "# **Prédiction de l'infarctus**"
      ],
      "metadata": {
        "id": "luelrMjWPfCP"
      }
    },
    {
      "cell_type": "markdown",
      "source": [
        "Sur ce notebook, nous allons nous atteler à la pise en place d'un modèle de prédiction du risque d'infarctus chez des patients par utilisation d'algorithmes de Machine Learning. Nous sommes en présence d'une `problématique de classification binaire` car l'état de sortie ne peut prendre que deux valeurs fixes: infarctus ou pas d'infarctus."
      ],
      "metadata": {
        "id": "Q8GzX8wrM8Nc"
      }
    },
    {
      "cell_type": "markdown",
      "source": [
        "### Sommaire\n",
        "- Présentation du dataset\n",
        "- Visualisation des données\n",
        "- Analyse exploratoire des données\n",
        "- Classification à l'aide d'une régression logistique\n",
        "- Classification à l'aide des forêts aléatoires\n",
        "- Conclusion"
      ],
      "metadata": {
        "id": "ns3VQMebPEmV"
      }
    },
    {
      "cell_type": "markdown",
      "source": [
        "# **Présentation du dataset**"
      ],
      "metadata": {
        "id": "vO1B0veWQfZ0"
      }
    },
    {
      "cell_type": "code",
      "execution_count": 5,
      "metadata": {
        "id": "kBh3rsV9OoFL"
      },
      "outputs": [],
      "source": [
        "import pandas as pd\n",
        "import numpy as np\n",
        "import matplotlib.pyplot as plt\n",
        "%matplotlib inline\n",
        "import seaborn as sns\n",
        "from sklearn.cluster import KMeans\n",
        "from sklearn.decomposition import PCA\n",
        "from sklearn.preprocessing import StandardScaler, MinMaxScaler\n",
        "from sklearn.model_selection import train_test_split, cross_val_score , cross_validate , StratifiedKFold,KFold\n",
        "from sklearn.linear_model import LogisticRegression,LinearRegression\n",
        "from sklearn.metrics import confusion_matrix,accuracy_score, balanced_accuracy_score,mean_squared_error, mean_absolute_error, r2_score"
      ]
    },
    {
      "cell_type": "code",
      "source": [
        "# On importe le jeu de données et on affiche le nombre de lignes et de colonnes. \n",
        "# La colonne id permettant d'identifier uniquemennt la personne sera mis en index \n",
        "\n",
        "strokes = pd.read_csv('strokes.csv', index_col = \"id\")\n",
        "\n",
        "print('Le DataFrame possède', strokes.shape[0], 'lignes et', strokes.shape[1], 'colonnes.')\n"
      ],
      "metadata": {
        "colab": {
          "base_uri": "https://localhost:8080/"
        },
        "id": "OQ0ePo2tPqBZ",
        "outputId": "71dcfa57-beb0-4d8e-ef36-654a02903869"
      },
      "execution_count": 59,
      "outputs": [
        {
          "output_type": "stream",
          "name": "stdout",
          "text": [
            "Le DataFrame possède 5110 lignes et 11 colonnes.\n"
          ]
        }
      ]
    },
    {
      "cell_type": "code",
      "source": [
        "# Visualisation des premières lignes\n",
        "strokes.head()\n"
      ],
      "metadata": {
        "colab": {
          "base_uri": "https://localhost:8080/",
          "height": 237
        },
        "id": "9YxuDTKm0OYq",
        "outputId": "4afc3386-baa4-4711-ca4b-4b064515742b"
      },
      "execution_count": 7,
      "outputs": [
        {
          "output_type": "execute_result",
          "data": {
            "text/plain": [
              "       gender   age  hypertension  heart_disease ever_married      work_type  \\\n",
              "id                                                                             \n",
              "9046     Male  67.0             0              1          Yes        Private   \n",
              "51676  Female  61.0             0              0          Yes  Self-employed   \n",
              "31112    Male  80.0             0              1          Yes        Private   \n",
              "60182  Female  49.0             0              0          Yes        Private   \n",
              "1665   Female  79.0             1              0          Yes  Self-employed   \n",
              "\n",
              "      Residence_type  avg_glucose_level   bmi   smoking_status  stroke  \n",
              "id                                                                      \n",
              "9046           Urban             228.69  36.6  formerly smoked       1  \n",
              "51676          Rural             202.21   NaN     never smoked       1  \n",
              "31112          Rural             105.92  32.5     never smoked       1  \n",
              "60182          Urban             171.23  34.4           smokes       1  \n",
              "1665           Rural             174.12  24.0     never smoked       1  "
            ],
            "text/html": [
              "\n",
              "  <div id=\"df-6410821b-ce73-4e7c-a698-e568420906ee\">\n",
              "    <div class=\"colab-df-container\">\n",
              "      <div>\n",
              "<style scoped>\n",
              "    .dataframe tbody tr th:only-of-type {\n",
              "        vertical-align: middle;\n",
              "    }\n",
              "\n",
              "    .dataframe tbody tr th {\n",
              "        vertical-align: top;\n",
              "    }\n",
              "\n",
              "    .dataframe thead th {\n",
              "        text-align: right;\n",
              "    }\n",
              "</style>\n",
              "<table border=\"1\" class=\"dataframe\">\n",
              "  <thead>\n",
              "    <tr style=\"text-align: right;\">\n",
              "      <th></th>\n",
              "      <th>gender</th>\n",
              "      <th>age</th>\n",
              "      <th>hypertension</th>\n",
              "      <th>heart_disease</th>\n",
              "      <th>ever_married</th>\n",
              "      <th>work_type</th>\n",
              "      <th>Residence_type</th>\n",
              "      <th>avg_glucose_level</th>\n",
              "      <th>bmi</th>\n",
              "      <th>smoking_status</th>\n",
              "      <th>stroke</th>\n",
              "    </tr>\n",
              "    <tr>\n",
              "      <th>id</th>\n",
              "      <th></th>\n",
              "      <th></th>\n",
              "      <th></th>\n",
              "      <th></th>\n",
              "      <th></th>\n",
              "      <th></th>\n",
              "      <th></th>\n",
              "      <th></th>\n",
              "      <th></th>\n",
              "      <th></th>\n",
              "      <th></th>\n",
              "    </tr>\n",
              "  </thead>\n",
              "  <tbody>\n",
              "    <tr>\n",
              "      <th>9046</th>\n",
              "      <td>Male</td>\n",
              "      <td>67.0</td>\n",
              "      <td>0</td>\n",
              "      <td>1</td>\n",
              "      <td>Yes</td>\n",
              "      <td>Private</td>\n",
              "      <td>Urban</td>\n",
              "      <td>228.69</td>\n",
              "      <td>36.6</td>\n",
              "      <td>formerly smoked</td>\n",
              "      <td>1</td>\n",
              "    </tr>\n",
              "    <tr>\n",
              "      <th>51676</th>\n",
              "      <td>Female</td>\n",
              "      <td>61.0</td>\n",
              "      <td>0</td>\n",
              "      <td>0</td>\n",
              "      <td>Yes</td>\n",
              "      <td>Self-employed</td>\n",
              "      <td>Rural</td>\n",
              "      <td>202.21</td>\n",
              "      <td>NaN</td>\n",
              "      <td>never smoked</td>\n",
              "      <td>1</td>\n",
              "    </tr>\n",
              "    <tr>\n",
              "      <th>31112</th>\n",
              "      <td>Male</td>\n",
              "      <td>80.0</td>\n",
              "      <td>0</td>\n",
              "      <td>1</td>\n",
              "      <td>Yes</td>\n",
              "      <td>Private</td>\n",
              "      <td>Rural</td>\n",
              "      <td>105.92</td>\n",
              "      <td>32.5</td>\n",
              "      <td>never smoked</td>\n",
              "      <td>1</td>\n",
              "    </tr>\n",
              "    <tr>\n",
              "      <th>60182</th>\n",
              "      <td>Female</td>\n",
              "      <td>49.0</td>\n",
              "      <td>0</td>\n",
              "      <td>0</td>\n",
              "      <td>Yes</td>\n",
              "      <td>Private</td>\n",
              "      <td>Urban</td>\n",
              "      <td>171.23</td>\n",
              "      <td>34.4</td>\n",
              "      <td>smokes</td>\n",
              "      <td>1</td>\n",
              "    </tr>\n",
              "    <tr>\n",
              "      <th>1665</th>\n",
              "      <td>Female</td>\n",
              "      <td>79.0</td>\n",
              "      <td>1</td>\n",
              "      <td>0</td>\n",
              "      <td>Yes</td>\n",
              "      <td>Self-employed</td>\n",
              "      <td>Rural</td>\n",
              "      <td>174.12</td>\n",
              "      <td>24.0</td>\n",
              "      <td>never smoked</td>\n",
              "      <td>1</td>\n",
              "    </tr>\n",
              "  </tbody>\n",
              "</table>\n",
              "</div>\n",
              "      <button class=\"colab-df-convert\" onclick=\"convertToInteractive('df-6410821b-ce73-4e7c-a698-e568420906ee')\"\n",
              "              title=\"Convert this dataframe to an interactive table.\"\n",
              "              style=\"display:none;\">\n",
              "        \n",
              "  <svg xmlns=\"http://www.w3.org/2000/svg\" height=\"24px\"viewBox=\"0 0 24 24\"\n",
              "       width=\"24px\">\n",
              "    <path d=\"M0 0h24v24H0V0z\" fill=\"none\"/>\n",
              "    <path d=\"M18.56 5.44l.94 2.06.94-2.06 2.06-.94-2.06-.94-.94-2.06-.94 2.06-2.06.94zm-11 1L8.5 8.5l.94-2.06 2.06-.94-2.06-.94L8.5 2.5l-.94 2.06-2.06.94zm10 10l.94 2.06.94-2.06 2.06-.94-2.06-.94-.94-2.06-.94 2.06-2.06.94z\"/><path d=\"M17.41 7.96l-1.37-1.37c-.4-.4-.92-.59-1.43-.59-.52 0-1.04.2-1.43.59L10.3 9.45l-7.72 7.72c-.78.78-.78 2.05 0 2.83L4 21.41c.39.39.9.59 1.41.59.51 0 1.02-.2 1.41-.59l7.78-7.78 2.81-2.81c.8-.78.8-2.07 0-2.86zM5.41 20L4 18.59l7.72-7.72 1.47 1.35L5.41 20z\"/>\n",
              "  </svg>\n",
              "      </button>\n",
              "      \n",
              "  <style>\n",
              "    .colab-df-container {\n",
              "      display:flex;\n",
              "      flex-wrap:wrap;\n",
              "      gap: 12px;\n",
              "    }\n",
              "\n",
              "    .colab-df-convert {\n",
              "      background-color: #E8F0FE;\n",
              "      border: none;\n",
              "      border-radius: 50%;\n",
              "      cursor: pointer;\n",
              "      display: none;\n",
              "      fill: #1967D2;\n",
              "      height: 32px;\n",
              "      padding: 0 0 0 0;\n",
              "      width: 32px;\n",
              "    }\n",
              "\n",
              "    .colab-df-convert:hover {\n",
              "      background-color: #E2EBFA;\n",
              "      box-shadow: 0px 1px 2px rgba(60, 64, 67, 0.3), 0px 1px 3px 1px rgba(60, 64, 67, 0.15);\n",
              "      fill: #174EA6;\n",
              "    }\n",
              "\n",
              "    [theme=dark] .colab-df-convert {\n",
              "      background-color: #3B4455;\n",
              "      fill: #D2E3FC;\n",
              "    }\n",
              "\n",
              "    [theme=dark] .colab-df-convert:hover {\n",
              "      background-color: #434B5C;\n",
              "      box-shadow: 0px 1px 3px 1px rgba(0, 0, 0, 0.15);\n",
              "      filter: drop-shadow(0px 1px 2px rgba(0, 0, 0, 0.3));\n",
              "      fill: #FFFFFF;\n",
              "    }\n",
              "  </style>\n",
              "\n",
              "      <script>\n",
              "        const buttonEl =\n",
              "          document.querySelector('#df-6410821b-ce73-4e7c-a698-e568420906ee button.colab-df-convert');\n",
              "        buttonEl.style.display =\n",
              "          google.colab.kernel.accessAllowed ? 'block' : 'none';\n",
              "\n",
              "        async function convertToInteractive(key) {\n",
              "          const element = document.querySelector('#df-6410821b-ce73-4e7c-a698-e568420906ee');\n",
              "          const dataTable =\n",
              "            await google.colab.kernel.invokeFunction('convertToInteractive',\n",
              "                                                     [key], {});\n",
              "          if (!dataTable) return;\n",
              "\n",
              "          const docLinkHtml = 'Like what you see? Visit the ' +\n",
              "            '<a target=\"_blank\" href=https://colab.research.google.com/notebooks/data_table.ipynb>data table notebook</a>'\n",
              "            + ' to learn more about interactive tables.';\n",
              "          element.innerHTML = '';\n",
              "          dataTable['output_type'] = 'display_data';\n",
              "          await google.colab.output.renderOutput(dataTable, element);\n",
              "          const docLink = document.createElement('div');\n",
              "          docLink.innerHTML = docLinkHtml;\n",
              "          element.appendChild(docLink);\n",
              "        }\n",
              "      </script>\n",
              "    </div>\n",
              "  </div>\n",
              "  "
            ]
          },
          "metadata": {},
          "execution_count": 7
        }
      ]
    },
    {
      "cell_type": "code",
      "source": [
        "# Description des colonnes\n",
        "strokes.describe()"
      ],
      "metadata": {
        "colab": {
          "base_uri": "https://localhost:8080/",
          "height": 300
        },
        "id": "_RB8W3Mz0dot",
        "outputId": "fd22f860-0131-4e93-cf6b-4ec815e99abe"
      },
      "execution_count": 8,
      "outputs": [
        {
          "output_type": "execute_result",
          "data": {
            "text/plain": [
              "               age  hypertension  heart_disease  avg_glucose_level  \\\n",
              "count  5110.000000   5110.000000    5110.000000        5110.000000   \n",
              "mean     43.226614      0.097456       0.054012         106.147677   \n",
              "std      22.612647      0.296607       0.226063          45.283560   \n",
              "min       0.080000      0.000000       0.000000          55.120000   \n",
              "25%      25.000000      0.000000       0.000000          77.245000   \n",
              "50%      45.000000      0.000000       0.000000          91.885000   \n",
              "75%      61.000000      0.000000       0.000000         114.090000   \n",
              "max      82.000000      1.000000       1.000000         271.740000   \n",
              "\n",
              "               bmi       stroke  \n",
              "count  4909.000000  5110.000000  \n",
              "mean     28.893237     0.048728  \n",
              "std       7.854067     0.215320  \n",
              "min      10.300000     0.000000  \n",
              "25%      23.500000     0.000000  \n",
              "50%      28.100000     0.000000  \n",
              "75%      33.100000     0.000000  \n",
              "max      97.600000     1.000000  "
            ],
            "text/html": [
              "\n",
              "  <div id=\"df-ef470773-62b1-4eb7-8d4e-a8cde87bcf5a\">\n",
              "    <div class=\"colab-df-container\">\n",
              "      <div>\n",
              "<style scoped>\n",
              "    .dataframe tbody tr th:only-of-type {\n",
              "        vertical-align: middle;\n",
              "    }\n",
              "\n",
              "    .dataframe tbody tr th {\n",
              "        vertical-align: top;\n",
              "    }\n",
              "\n",
              "    .dataframe thead th {\n",
              "        text-align: right;\n",
              "    }\n",
              "</style>\n",
              "<table border=\"1\" class=\"dataframe\">\n",
              "  <thead>\n",
              "    <tr style=\"text-align: right;\">\n",
              "      <th></th>\n",
              "      <th>age</th>\n",
              "      <th>hypertension</th>\n",
              "      <th>heart_disease</th>\n",
              "      <th>avg_glucose_level</th>\n",
              "      <th>bmi</th>\n",
              "      <th>stroke</th>\n",
              "    </tr>\n",
              "  </thead>\n",
              "  <tbody>\n",
              "    <tr>\n",
              "      <th>count</th>\n",
              "      <td>5110.000000</td>\n",
              "      <td>5110.000000</td>\n",
              "      <td>5110.000000</td>\n",
              "      <td>5110.000000</td>\n",
              "      <td>4909.000000</td>\n",
              "      <td>5110.000000</td>\n",
              "    </tr>\n",
              "    <tr>\n",
              "      <th>mean</th>\n",
              "      <td>43.226614</td>\n",
              "      <td>0.097456</td>\n",
              "      <td>0.054012</td>\n",
              "      <td>106.147677</td>\n",
              "      <td>28.893237</td>\n",
              "      <td>0.048728</td>\n",
              "    </tr>\n",
              "    <tr>\n",
              "      <th>std</th>\n",
              "      <td>22.612647</td>\n",
              "      <td>0.296607</td>\n",
              "      <td>0.226063</td>\n",
              "      <td>45.283560</td>\n",
              "      <td>7.854067</td>\n",
              "      <td>0.215320</td>\n",
              "    </tr>\n",
              "    <tr>\n",
              "      <th>min</th>\n",
              "      <td>0.080000</td>\n",
              "      <td>0.000000</td>\n",
              "      <td>0.000000</td>\n",
              "      <td>55.120000</td>\n",
              "      <td>10.300000</td>\n",
              "      <td>0.000000</td>\n",
              "    </tr>\n",
              "    <tr>\n",
              "      <th>25%</th>\n",
              "      <td>25.000000</td>\n",
              "      <td>0.000000</td>\n",
              "      <td>0.000000</td>\n",
              "      <td>77.245000</td>\n",
              "      <td>23.500000</td>\n",
              "      <td>0.000000</td>\n",
              "    </tr>\n",
              "    <tr>\n",
              "      <th>50%</th>\n",
              "      <td>45.000000</td>\n",
              "      <td>0.000000</td>\n",
              "      <td>0.000000</td>\n",
              "      <td>91.885000</td>\n",
              "      <td>28.100000</td>\n",
              "      <td>0.000000</td>\n",
              "    </tr>\n",
              "    <tr>\n",
              "      <th>75%</th>\n",
              "      <td>61.000000</td>\n",
              "      <td>0.000000</td>\n",
              "      <td>0.000000</td>\n",
              "      <td>114.090000</td>\n",
              "      <td>33.100000</td>\n",
              "      <td>0.000000</td>\n",
              "    </tr>\n",
              "    <tr>\n",
              "      <th>max</th>\n",
              "      <td>82.000000</td>\n",
              "      <td>1.000000</td>\n",
              "      <td>1.000000</td>\n",
              "      <td>271.740000</td>\n",
              "      <td>97.600000</td>\n",
              "      <td>1.000000</td>\n",
              "    </tr>\n",
              "  </tbody>\n",
              "</table>\n",
              "</div>\n",
              "      <button class=\"colab-df-convert\" onclick=\"convertToInteractive('df-ef470773-62b1-4eb7-8d4e-a8cde87bcf5a')\"\n",
              "              title=\"Convert this dataframe to an interactive table.\"\n",
              "              style=\"display:none;\">\n",
              "        \n",
              "  <svg xmlns=\"http://www.w3.org/2000/svg\" height=\"24px\"viewBox=\"0 0 24 24\"\n",
              "       width=\"24px\">\n",
              "    <path d=\"M0 0h24v24H0V0z\" fill=\"none\"/>\n",
              "    <path d=\"M18.56 5.44l.94 2.06.94-2.06 2.06-.94-2.06-.94-.94-2.06-.94 2.06-2.06.94zm-11 1L8.5 8.5l.94-2.06 2.06-.94-2.06-.94L8.5 2.5l-.94 2.06-2.06.94zm10 10l.94 2.06.94-2.06 2.06-.94-2.06-.94-.94-2.06-.94 2.06-2.06.94z\"/><path d=\"M17.41 7.96l-1.37-1.37c-.4-.4-.92-.59-1.43-.59-.52 0-1.04.2-1.43.59L10.3 9.45l-7.72 7.72c-.78.78-.78 2.05 0 2.83L4 21.41c.39.39.9.59 1.41.59.51 0 1.02-.2 1.41-.59l7.78-7.78 2.81-2.81c.8-.78.8-2.07 0-2.86zM5.41 20L4 18.59l7.72-7.72 1.47 1.35L5.41 20z\"/>\n",
              "  </svg>\n",
              "      </button>\n",
              "      \n",
              "  <style>\n",
              "    .colab-df-container {\n",
              "      display:flex;\n",
              "      flex-wrap:wrap;\n",
              "      gap: 12px;\n",
              "    }\n",
              "\n",
              "    .colab-df-convert {\n",
              "      background-color: #E8F0FE;\n",
              "      border: none;\n",
              "      border-radius: 50%;\n",
              "      cursor: pointer;\n",
              "      display: none;\n",
              "      fill: #1967D2;\n",
              "      height: 32px;\n",
              "      padding: 0 0 0 0;\n",
              "      width: 32px;\n",
              "    }\n",
              "\n",
              "    .colab-df-convert:hover {\n",
              "      background-color: #E2EBFA;\n",
              "      box-shadow: 0px 1px 2px rgba(60, 64, 67, 0.3), 0px 1px 3px 1px rgba(60, 64, 67, 0.15);\n",
              "      fill: #174EA6;\n",
              "    }\n",
              "\n",
              "    [theme=dark] .colab-df-convert {\n",
              "      background-color: #3B4455;\n",
              "      fill: #D2E3FC;\n",
              "    }\n",
              "\n",
              "    [theme=dark] .colab-df-convert:hover {\n",
              "      background-color: #434B5C;\n",
              "      box-shadow: 0px 1px 3px 1px rgba(0, 0, 0, 0.15);\n",
              "      filter: drop-shadow(0px 1px 2px rgba(0, 0, 0, 0.3));\n",
              "      fill: #FFFFFF;\n",
              "    }\n",
              "  </style>\n",
              "\n",
              "      <script>\n",
              "        const buttonEl =\n",
              "          document.querySelector('#df-ef470773-62b1-4eb7-8d4e-a8cde87bcf5a button.colab-df-convert');\n",
              "        buttonEl.style.display =\n",
              "          google.colab.kernel.accessAllowed ? 'block' : 'none';\n",
              "\n",
              "        async function convertToInteractive(key) {\n",
              "          const element = document.querySelector('#df-ef470773-62b1-4eb7-8d4e-a8cde87bcf5a');\n",
              "          const dataTable =\n",
              "            await google.colab.kernel.invokeFunction('convertToInteractive',\n",
              "                                                     [key], {});\n",
              "          if (!dataTable) return;\n",
              "\n",
              "          const docLinkHtml = 'Like what you see? Visit the ' +\n",
              "            '<a target=\"_blank\" href=https://colab.research.google.com/notebooks/data_table.ipynb>data table notebook</a>'\n",
              "            + ' to learn more about interactive tables.';\n",
              "          element.innerHTML = '';\n",
              "          dataTable['output_type'] = 'display_data';\n",
              "          await google.colab.output.renderOutput(dataTable, element);\n",
              "          const docLink = document.createElement('div');\n",
              "          docLink.innerHTML = docLinkHtml;\n",
              "          element.appendChild(docLink);\n",
              "        }\n",
              "      </script>\n",
              "    </div>\n",
              "  </div>\n",
              "  "
            ]
          },
          "metadata": {},
          "execution_count": 8
        }
      ]
    },
    {
      "cell_type": "markdown",
      "source": [
        "Le tableau ci-dessus, nous permet de visualiser pour chaque colonne de type numérique:\n",
        "- Le nombre de valeurs non nulles (count)\n",
        "- La moyenne des valeurs sur cette colonne (mean). C'est un indicateur de position.\n",
        "- La déviation standard (std). Cette valeur représente le carré de la variance et informe sur la dispersion des données autour de la valeur moyenne. C'est un indicateur de dispersion.\n",
        "- La valeur miimale(min)\n",
        "- le premier quartile (25%) représente la valeur de la série qui sépare les 25% inférieurs des données\n",
        "- le deuxième quantile correspond à la médiane et représente la valeur de la colonneà partir de laquelle on retrouve 50% des valeurs inférieures\n",
        "- le troisième quartile (75%) correspond à la valeur à partir de laquelle on retrouve 75% des valeurs inférieures\n",
        "\n",
        "`Conclusion:` Il ressort que l'on a :\n",
        "- des valeurs non renseignées sur la variable bmi(indice de masse corporelle) dont le total count (4909) est inférieur au nombre total de lignes du dataset.\n",
        "- la valeur cible est rensignée pour toutes les lignes\n",
        "- les valeurs de la médiane et de la moyenne pour les variables age, avg_glucose_level et bmi ne sont pas éloignés. Les données semblent homogènes\n",
        "- Les valeurs des quantiles permettent de confirmer notre analyse précédente. Il n'y a pas de ruptures signnificatifs etre les second et troisième quantiles. La moyenne n'est pas non plus éloignée du dernier quantile. Les valeurs sont homogènes."
      ],
      "metadata": {
        "id": "SggrvOT3Q1Ll"
      }
    },
    {
      "cell_type": "markdown",
      "source": [
        "##### Typologie des colonnes"
      ],
      "metadata": {
        "id": "oSzm0SDA0mzE"
      }
    },
    {
      "cell_type": "code",
      "source": [
        "# Colonnes detype object\n",
        "strokes.select_dtypes(include=\"O\")"
      ],
      "metadata": {
        "colab": {
          "base_uri": "https://localhost:8080/",
          "height": 455
        },
        "id": "2FB6h73rOD55",
        "outputId": "d048de74-ddbf-4e46-d092-8b6130b0850e"
      },
      "execution_count": 60,
      "outputs": [
        {
          "output_type": "execute_result",
          "data": {
            "text/plain": [
              "       gender ever_married      work_type Residence_type   smoking_status\n",
              "id                                                                       \n",
              "9046     Male          Yes        Private          Urban  formerly smoked\n",
              "51676  Female          Yes  Self-employed          Rural     never smoked\n",
              "31112    Male          Yes        Private          Rural     never smoked\n",
              "60182  Female          Yes        Private          Urban           smokes\n",
              "1665   Female          Yes  Self-employed          Rural     never smoked\n",
              "...       ...          ...            ...            ...              ...\n",
              "18234  Female          Yes        Private          Urban     never smoked\n",
              "44873  Female          Yes  Self-employed          Urban     never smoked\n",
              "19723  Female          Yes  Self-employed          Rural     never smoked\n",
              "37544    Male          Yes        Private          Rural  formerly smoked\n",
              "44679  Female          Yes       Govt_job          Urban          Unknown\n",
              "\n",
              "[5110 rows x 5 columns]"
            ],
            "text/html": [
              "\n",
              "  <div id=\"df-cb4fca16-7747-41d5-bba7-c5f5250e86e0\">\n",
              "    <div class=\"colab-df-container\">\n",
              "      <div>\n",
              "<style scoped>\n",
              "    .dataframe tbody tr th:only-of-type {\n",
              "        vertical-align: middle;\n",
              "    }\n",
              "\n",
              "    .dataframe tbody tr th {\n",
              "        vertical-align: top;\n",
              "    }\n",
              "\n",
              "    .dataframe thead th {\n",
              "        text-align: right;\n",
              "    }\n",
              "</style>\n",
              "<table border=\"1\" class=\"dataframe\">\n",
              "  <thead>\n",
              "    <tr style=\"text-align: right;\">\n",
              "      <th></th>\n",
              "      <th>gender</th>\n",
              "      <th>ever_married</th>\n",
              "      <th>work_type</th>\n",
              "      <th>Residence_type</th>\n",
              "      <th>smoking_status</th>\n",
              "    </tr>\n",
              "    <tr>\n",
              "      <th>id</th>\n",
              "      <th></th>\n",
              "      <th></th>\n",
              "      <th></th>\n",
              "      <th></th>\n",
              "      <th></th>\n",
              "    </tr>\n",
              "  </thead>\n",
              "  <tbody>\n",
              "    <tr>\n",
              "      <th>9046</th>\n",
              "      <td>Male</td>\n",
              "      <td>Yes</td>\n",
              "      <td>Private</td>\n",
              "      <td>Urban</td>\n",
              "      <td>formerly smoked</td>\n",
              "    </tr>\n",
              "    <tr>\n",
              "      <th>51676</th>\n",
              "      <td>Female</td>\n",
              "      <td>Yes</td>\n",
              "      <td>Self-employed</td>\n",
              "      <td>Rural</td>\n",
              "      <td>never smoked</td>\n",
              "    </tr>\n",
              "    <tr>\n",
              "      <th>31112</th>\n",
              "      <td>Male</td>\n",
              "      <td>Yes</td>\n",
              "      <td>Private</td>\n",
              "      <td>Rural</td>\n",
              "      <td>never smoked</td>\n",
              "    </tr>\n",
              "    <tr>\n",
              "      <th>60182</th>\n",
              "      <td>Female</td>\n",
              "      <td>Yes</td>\n",
              "      <td>Private</td>\n",
              "      <td>Urban</td>\n",
              "      <td>smokes</td>\n",
              "    </tr>\n",
              "    <tr>\n",
              "      <th>1665</th>\n",
              "      <td>Female</td>\n",
              "      <td>Yes</td>\n",
              "      <td>Self-employed</td>\n",
              "      <td>Rural</td>\n",
              "      <td>never smoked</td>\n",
              "    </tr>\n",
              "    <tr>\n",
              "      <th>...</th>\n",
              "      <td>...</td>\n",
              "      <td>...</td>\n",
              "      <td>...</td>\n",
              "      <td>...</td>\n",
              "      <td>...</td>\n",
              "    </tr>\n",
              "    <tr>\n",
              "      <th>18234</th>\n",
              "      <td>Female</td>\n",
              "      <td>Yes</td>\n",
              "      <td>Private</td>\n",
              "      <td>Urban</td>\n",
              "      <td>never smoked</td>\n",
              "    </tr>\n",
              "    <tr>\n",
              "      <th>44873</th>\n",
              "      <td>Female</td>\n",
              "      <td>Yes</td>\n",
              "      <td>Self-employed</td>\n",
              "      <td>Urban</td>\n",
              "      <td>never smoked</td>\n",
              "    </tr>\n",
              "    <tr>\n",
              "      <th>19723</th>\n",
              "      <td>Female</td>\n",
              "      <td>Yes</td>\n",
              "      <td>Self-employed</td>\n",
              "      <td>Rural</td>\n",
              "      <td>never smoked</td>\n",
              "    </tr>\n",
              "    <tr>\n",
              "      <th>37544</th>\n",
              "      <td>Male</td>\n",
              "      <td>Yes</td>\n",
              "      <td>Private</td>\n",
              "      <td>Rural</td>\n",
              "      <td>formerly smoked</td>\n",
              "    </tr>\n",
              "    <tr>\n",
              "      <th>44679</th>\n",
              "      <td>Female</td>\n",
              "      <td>Yes</td>\n",
              "      <td>Govt_job</td>\n",
              "      <td>Urban</td>\n",
              "      <td>Unknown</td>\n",
              "    </tr>\n",
              "  </tbody>\n",
              "</table>\n",
              "<p>5110 rows × 5 columns</p>\n",
              "</div>\n",
              "      <button class=\"colab-df-convert\" onclick=\"convertToInteractive('df-cb4fca16-7747-41d5-bba7-c5f5250e86e0')\"\n",
              "              title=\"Convert this dataframe to an interactive table.\"\n",
              "              style=\"display:none;\">\n",
              "        \n",
              "  <svg xmlns=\"http://www.w3.org/2000/svg\" height=\"24px\"viewBox=\"0 0 24 24\"\n",
              "       width=\"24px\">\n",
              "    <path d=\"M0 0h24v24H0V0z\" fill=\"none\"/>\n",
              "    <path d=\"M18.56 5.44l.94 2.06.94-2.06 2.06-.94-2.06-.94-.94-2.06-.94 2.06-2.06.94zm-11 1L8.5 8.5l.94-2.06 2.06-.94-2.06-.94L8.5 2.5l-.94 2.06-2.06.94zm10 10l.94 2.06.94-2.06 2.06-.94-2.06-.94-.94-2.06-.94 2.06-2.06.94z\"/><path d=\"M17.41 7.96l-1.37-1.37c-.4-.4-.92-.59-1.43-.59-.52 0-1.04.2-1.43.59L10.3 9.45l-7.72 7.72c-.78.78-.78 2.05 0 2.83L4 21.41c.39.39.9.59 1.41.59.51 0 1.02-.2 1.41-.59l7.78-7.78 2.81-2.81c.8-.78.8-2.07 0-2.86zM5.41 20L4 18.59l7.72-7.72 1.47 1.35L5.41 20z\"/>\n",
              "  </svg>\n",
              "      </button>\n",
              "      \n",
              "  <style>\n",
              "    .colab-df-container {\n",
              "      display:flex;\n",
              "      flex-wrap:wrap;\n",
              "      gap: 12px;\n",
              "    }\n",
              "\n",
              "    .colab-df-convert {\n",
              "      background-color: #E8F0FE;\n",
              "      border: none;\n",
              "      border-radius: 50%;\n",
              "      cursor: pointer;\n",
              "      display: none;\n",
              "      fill: #1967D2;\n",
              "      height: 32px;\n",
              "      padding: 0 0 0 0;\n",
              "      width: 32px;\n",
              "    }\n",
              "\n",
              "    .colab-df-convert:hover {\n",
              "      background-color: #E2EBFA;\n",
              "      box-shadow: 0px 1px 2px rgba(60, 64, 67, 0.3), 0px 1px 3px 1px rgba(60, 64, 67, 0.15);\n",
              "      fill: #174EA6;\n",
              "    }\n",
              "\n",
              "    [theme=dark] .colab-df-convert {\n",
              "      background-color: #3B4455;\n",
              "      fill: #D2E3FC;\n",
              "    }\n",
              "\n",
              "    [theme=dark] .colab-df-convert:hover {\n",
              "      background-color: #434B5C;\n",
              "      box-shadow: 0px 1px 3px 1px rgba(0, 0, 0, 0.15);\n",
              "      filter: drop-shadow(0px 1px 2px rgba(0, 0, 0, 0.3));\n",
              "      fill: #FFFFFF;\n",
              "    }\n",
              "  </style>\n",
              "\n",
              "      <script>\n",
              "        const buttonEl =\n",
              "          document.querySelector('#df-cb4fca16-7747-41d5-bba7-c5f5250e86e0 button.colab-df-convert');\n",
              "        buttonEl.style.display =\n",
              "          google.colab.kernel.accessAllowed ? 'block' : 'none';\n",
              "\n",
              "        async function convertToInteractive(key) {\n",
              "          const element = document.querySelector('#df-cb4fca16-7747-41d5-bba7-c5f5250e86e0');\n",
              "          const dataTable =\n",
              "            await google.colab.kernel.invokeFunction('convertToInteractive',\n",
              "                                                     [key], {});\n",
              "          if (!dataTable) return;\n",
              "\n",
              "          const docLinkHtml = 'Like what you see? Visit the ' +\n",
              "            '<a target=\"_blank\" href=https://colab.research.google.com/notebooks/data_table.ipynb>data table notebook</a>'\n",
              "            + ' to learn more about interactive tables.';\n",
              "          element.innerHTML = '';\n",
              "          dataTable['output_type'] = 'display_data';\n",
              "          await google.colab.output.renderOutput(dataTable, element);\n",
              "          const docLink = document.createElement('div');\n",
              "          docLink.innerHTML = docLinkHtml;\n",
              "          element.appendChild(docLink);\n",
              "        }\n",
              "      </script>\n",
              "    </div>\n",
              "  </div>\n",
              "  "
            ]
          },
          "metadata": {},
          "execution_count": 60
        }
      ]
    },
    {
      "cell_type": "code",
      "source": [
        "# Colonnes detype numériques\n",
        "\n",
        "strokes.select_dtypes(include=\"number\")"
      ],
      "metadata": {
        "colab": {
          "base_uri": "https://localhost:8080/",
          "height": 455
        },
        "id": "fRtp6ArKOS3k",
        "outputId": "9abd6a60-9a41-47b2-edf4-94fc76138edc"
      },
      "execution_count": 61,
      "outputs": [
        {
          "output_type": "execute_result",
          "data": {
            "text/plain": [
              "        age  hypertension  heart_disease  avg_glucose_level   bmi  stroke\n",
              "id                                                                       \n",
              "9046   67.0             0              1             228.69  36.6       1\n",
              "51676  61.0             0              0             202.21   NaN       1\n",
              "31112  80.0             0              1             105.92  32.5       1\n",
              "60182  49.0             0              0             171.23  34.4       1\n",
              "1665   79.0             1              0             174.12  24.0       1\n",
              "...     ...           ...            ...                ...   ...     ...\n",
              "18234  80.0             1              0              83.75   NaN       0\n",
              "44873  81.0             0              0             125.20  40.0       0\n",
              "19723  35.0             0              0              82.99  30.6       0\n",
              "37544  51.0             0              0             166.29  25.6       0\n",
              "44679  44.0             0              0              85.28  26.2       0\n",
              "\n",
              "[5110 rows x 6 columns]"
            ],
            "text/html": [
              "\n",
              "  <div id=\"df-de95ae0f-789a-4532-9594-ad7c58e8031f\">\n",
              "    <div class=\"colab-df-container\">\n",
              "      <div>\n",
              "<style scoped>\n",
              "    .dataframe tbody tr th:only-of-type {\n",
              "        vertical-align: middle;\n",
              "    }\n",
              "\n",
              "    .dataframe tbody tr th {\n",
              "        vertical-align: top;\n",
              "    }\n",
              "\n",
              "    .dataframe thead th {\n",
              "        text-align: right;\n",
              "    }\n",
              "</style>\n",
              "<table border=\"1\" class=\"dataframe\">\n",
              "  <thead>\n",
              "    <tr style=\"text-align: right;\">\n",
              "      <th></th>\n",
              "      <th>age</th>\n",
              "      <th>hypertension</th>\n",
              "      <th>heart_disease</th>\n",
              "      <th>avg_glucose_level</th>\n",
              "      <th>bmi</th>\n",
              "      <th>stroke</th>\n",
              "    </tr>\n",
              "    <tr>\n",
              "      <th>id</th>\n",
              "      <th></th>\n",
              "      <th></th>\n",
              "      <th></th>\n",
              "      <th></th>\n",
              "      <th></th>\n",
              "      <th></th>\n",
              "    </tr>\n",
              "  </thead>\n",
              "  <tbody>\n",
              "    <tr>\n",
              "      <th>9046</th>\n",
              "      <td>67.0</td>\n",
              "      <td>0</td>\n",
              "      <td>1</td>\n",
              "      <td>228.69</td>\n",
              "      <td>36.6</td>\n",
              "      <td>1</td>\n",
              "    </tr>\n",
              "    <tr>\n",
              "      <th>51676</th>\n",
              "      <td>61.0</td>\n",
              "      <td>0</td>\n",
              "      <td>0</td>\n",
              "      <td>202.21</td>\n",
              "      <td>NaN</td>\n",
              "      <td>1</td>\n",
              "    </tr>\n",
              "    <tr>\n",
              "      <th>31112</th>\n",
              "      <td>80.0</td>\n",
              "      <td>0</td>\n",
              "      <td>1</td>\n",
              "      <td>105.92</td>\n",
              "      <td>32.5</td>\n",
              "      <td>1</td>\n",
              "    </tr>\n",
              "    <tr>\n",
              "      <th>60182</th>\n",
              "      <td>49.0</td>\n",
              "      <td>0</td>\n",
              "      <td>0</td>\n",
              "      <td>171.23</td>\n",
              "      <td>34.4</td>\n",
              "      <td>1</td>\n",
              "    </tr>\n",
              "    <tr>\n",
              "      <th>1665</th>\n",
              "      <td>79.0</td>\n",
              "      <td>1</td>\n",
              "      <td>0</td>\n",
              "      <td>174.12</td>\n",
              "      <td>24.0</td>\n",
              "      <td>1</td>\n",
              "    </tr>\n",
              "    <tr>\n",
              "      <th>...</th>\n",
              "      <td>...</td>\n",
              "      <td>...</td>\n",
              "      <td>...</td>\n",
              "      <td>...</td>\n",
              "      <td>...</td>\n",
              "      <td>...</td>\n",
              "    </tr>\n",
              "    <tr>\n",
              "      <th>18234</th>\n",
              "      <td>80.0</td>\n",
              "      <td>1</td>\n",
              "      <td>0</td>\n",
              "      <td>83.75</td>\n",
              "      <td>NaN</td>\n",
              "      <td>0</td>\n",
              "    </tr>\n",
              "    <tr>\n",
              "      <th>44873</th>\n",
              "      <td>81.0</td>\n",
              "      <td>0</td>\n",
              "      <td>0</td>\n",
              "      <td>125.20</td>\n",
              "      <td>40.0</td>\n",
              "      <td>0</td>\n",
              "    </tr>\n",
              "    <tr>\n",
              "      <th>19723</th>\n",
              "      <td>35.0</td>\n",
              "      <td>0</td>\n",
              "      <td>0</td>\n",
              "      <td>82.99</td>\n",
              "      <td>30.6</td>\n",
              "      <td>0</td>\n",
              "    </tr>\n",
              "    <tr>\n",
              "      <th>37544</th>\n",
              "      <td>51.0</td>\n",
              "      <td>0</td>\n",
              "      <td>0</td>\n",
              "      <td>166.29</td>\n",
              "      <td>25.6</td>\n",
              "      <td>0</td>\n",
              "    </tr>\n",
              "    <tr>\n",
              "      <th>44679</th>\n",
              "      <td>44.0</td>\n",
              "      <td>0</td>\n",
              "      <td>0</td>\n",
              "      <td>85.28</td>\n",
              "      <td>26.2</td>\n",
              "      <td>0</td>\n",
              "    </tr>\n",
              "  </tbody>\n",
              "</table>\n",
              "<p>5110 rows × 6 columns</p>\n",
              "</div>\n",
              "      <button class=\"colab-df-convert\" onclick=\"convertToInteractive('df-de95ae0f-789a-4532-9594-ad7c58e8031f')\"\n",
              "              title=\"Convert this dataframe to an interactive table.\"\n",
              "              style=\"display:none;\">\n",
              "        \n",
              "  <svg xmlns=\"http://www.w3.org/2000/svg\" height=\"24px\"viewBox=\"0 0 24 24\"\n",
              "       width=\"24px\">\n",
              "    <path d=\"M0 0h24v24H0V0z\" fill=\"none\"/>\n",
              "    <path d=\"M18.56 5.44l.94 2.06.94-2.06 2.06-.94-2.06-.94-.94-2.06-.94 2.06-2.06.94zm-11 1L8.5 8.5l.94-2.06 2.06-.94-2.06-.94L8.5 2.5l-.94 2.06-2.06.94zm10 10l.94 2.06.94-2.06 2.06-.94-2.06-.94-.94-2.06-.94 2.06-2.06.94z\"/><path d=\"M17.41 7.96l-1.37-1.37c-.4-.4-.92-.59-1.43-.59-.52 0-1.04.2-1.43.59L10.3 9.45l-7.72 7.72c-.78.78-.78 2.05 0 2.83L4 21.41c.39.39.9.59 1.41.59.51 0 1.02-.2 1.41-.59l7.78-7.78 2.81-2.81c.8-.78.8-2.07 0-2.86zM5.41 20L4 18.59l7.72-7.72 1.47 1.35L5.41 20z\"/>\n",
              "  </svg>\n",
              "      </button>\n",
              "      \n",
              "  <style>\n",
              "    .colab-df-container {\n",
              "      display:flex;\n",
              "      flex-wrap:wrap;\n",
              "      gap: 12px;\n",
              "    }\n",
              "\n",
              "    .colab-df-convert {\n",
              "      background-color: #E8F0FE;\n",
              "      border: none;\n",
              "      border-radius: 50%;\n",
              "      cursor: pointer;\n",
              "      display: none;\n",
              "      fill: #1967D2;\n",
              "      height: 32px;\n",
              "      padding: 0 0 0 0;\n",
              "      width: 32px;\n",
              "    }\n",
              "\n",
              "    .colab-df-convert:hover {\n",
              "      background-color: #E2EBFA;\n",
              "      box-shadow: 0px 1px 2px rgba(60, 64, 67, 0.3), 0px 1px 3px 1px rgba(60, 64, 67, 0.15);\n",
              "      fill: #174EA6;\n",
              "    }\n",
              "\n",
              "    [theme=dark] .colab-df-convert {\n",
              "      background-color: #3B4455;\n",
              "      fill: #D2E3FC;\n",
              "    }\n",
              "\n",
              "    [theme=dark] .colab-df-convert:hover {\n",
              "      background-color: #434B5C;\n",
              "      box-shadow: 0px 1px 3px 1px rgba(0, 0, 0, 0.15);\n",
              "      filter: drop-shadow(0px 1px 2px rgba(0, 0, 0, 0.3));\n",
              "      fill: #FFFFFF;\n",
              "    }\n",
              "  </style>\n",
              "\n",
              "      <script>\n",
              "        const buttonEl =\n",
              "          document.querySelector('#df-de95ae0f-789a-4532-9594-ad7c58e8031f button.colab-df-convert');\n",
              "        buttonEl.style.display =\n",
              "          google.colab.kernel.accessAllowed ? 'block' : 'none';\n",
              "\n",
              "        async function convertToInteractive(key) {\n",
              "          const element = document.querySelector('#df-de95ae0f-789a-4532-9594-ad7c58e8031f');\n",
              "          const dataTable =\n",
              "            await google.colab.kernel.invokeFunction('convertToInteractive',\n",
              "                                                     [key], {});\n",
              "          if (!dataTable) return;\n",
              "\n",
              "          const docLinkHtml = 'Like what you see? Visit the ' +\n",
              "            '<a target=\"_blank\" href=https://colab.research.google.com/notebooks/data_table.ipynb>data table notebook</a>'\n",
              "            + ' to learn more about interactive tables.';\n",
              "          element.innerHTML = '';\n",
              "          dataTable['output_type'] = 'display_data';\n",
              "          await google.colab.output.renderOutput(dataTable, element);\n",
              "          const docLink = document.createElement('div');\n",
              "          docLink.innerHTML = docLinkHtml;\n",
              "          element.appendChild(docLink);\n",
              "        }\n",
              "      </script>\n",
              "    </div>\n",
              "  </div>\n",
              "  "
            ]
          },
          "metadata": {},
          "execution_count": 61
        }
      ]
    },
    {
      "cell_type": "markdown",
      "source": [
        "`Remarques`: Les colonnes hypertension, heart_disease ont des valeurs booléenes mais sont des données catégorielles et non continues. Nous allons changer leur type. "
      ],
      "metadata": {
        "id": "QgbSkbJp0scm"
      }
    },
    {
      "cell_type": "code",
      "source": [
        "# Changement des types\n",
        "strokes[\"hypertension\"] = strokes[\"hypertension\"].astype(\"O\")\n",
        "strokes[\"heart_disease\"] = strokes[\"heart_disease\"].astype(\"O\")"
      ],
      "metadata": {
        "id": "EOui3f6V0wlP"
      },
      "execution_count": 9,
      "outputs": []
    },
    {
      "cell_type": "markdown",
      "source": [
        "##### Exploration"
      ],
      "metadata": {
        "id": "2_AH8Lvy05_r"
      }
    },
    {
      "cell_type": "code",
      "source": [
        "#on fait un premier netoyage des donnés \n",
        "\n",
        "print(\"Nombre de lignes en double sur le jeu de données : \",  strokes.duplicated().sum()) \n",
        "\n",
        "print(\"\\n\")\n",
        "\n",
        "print(\"Affichage des modalités de chacune des variables : \\n\")\n",
        "for column in strokes.columns:\n",
        "     print(\"\\n\" + column)\n",
        "    # print(strokes[column].value_counts())\n",
        "     print(strokes[column].unique())"
      ],
      "metadata": {
        "colab": {
          "base_uri": "https://localhost:8080/"
        },
        "id": "CCIPCqKsSw6x",
        "outputId": "d4fbb491-218c-4662-8515-96e66aaf05c9"
      },
      "execution_count": null,
      "outputs": [
        {
          "output_type": "stream",
          "name": "stdout",
          "text": [
            "Nombre de lignes en double sur le jeu de données :  0\n",
            "\n",
            "\n",
            "Affichage des modalités de chacune des variables : \n",
            "\n",
            "\n",
            "gender\n",
            "['Male' 'Female' 'Other']\n",
            "\n",
            "age\n",
            "[6.70e+01 6.10e+01 8.00e+01 4.90e+01 7.90e+01 8.10e+01 7.40e+01 6.90e+01\n",
            " 5.90e+01 7.80e+01 5.40e+01 5.00e+01 6.40e+01 7.50e+01 6.00e+01 5.70e+01\n",
            " 7.10e+01 5.20e+01 8.20e+01 6.50e+01 5.80e+01 4.20e+01 4.80e+01 7.20e+01\n",
            " 6.30e+01 7.60e+01 3.90e+01 7.70e+01 7.30e+01 5.60e+01 4.50e+01 7.00e+01\n",
            " 6.60e+01 5.10e+01 4.30e+01 6.80e+01 4.70e+01 5.30e+01 3.80e+01 5.50e+01\n",
            " 1.32e+00 4.60e+01 3.20e+01 1.40e+01 3.00e+00 8.00e+00 3.70e+01 4.00e+01\n",
            " 3.50e+01 2.00e+01 4.40e+01 2.50e+01 2.70e+01 2.30e+01 1.70e+01 1.30e+01\n",
            " 4.00e+00 1.60e+01 2.20e+01 3.00e+01 2.90e+01 1.10e+01 2.10e+01 1.80e+01\n",
            " 3.30e+01 2.40e+01 3.40e+01 3.60e+01 6.40e-01 4.10e+01 8.80e-01 5.00e+00\n",
            " 2.60e+01 3.10e+01 7.00e+00 1.20e+01 6.20e+01 2.00e+00 9.00e+00 1.50e+01\n",
            " 2.80e+01 1.00e+01 1.80e+00 3.20e-01 1.08e+00 1.90e+01 6.00e+00 1.16e+00\n",
            " 1.00e+00 1.40e+00 1.72e+00 2.40e-01 1.64e+00 1.56e+00 7.20e-01 1.88e+00\n",
            " 1.24e+00 8.00e-01 4.00e-01 8.00e-02 1.48e+00 5.60e-01 4.80e-01 1.60e-01]\n",
            "\n",
            "hypertension\n",
            "[0 1]\n",
            "\n",
            "heart_disease\n",
            "[1 0]\n",
            "\n",
            "ever_married\n",
            "['Yes' 'No']\n",
            "\n",
            "work_type\n",
            "['Private' 'Self-employed' 'Govt_job' 'children' 'Never_worked']\n",
            "\n",
            "Residence_type\n",
            "['Urban' 'Rural']\n",
            "\n",
            "avg_glucose_level\n",
            "[228.69 202.21 105.92 ...  82.99 166.29  85.28]\n",
            "\n",
            "bmi\n",
            "[36.6  nan 32.5 34.4 24.  29.  27.4 22.8 24.2 29.7 36.8 27.3 28.2 30.9\n",
            " 37.5 25.8 37.8 22.4 48.9 26.6 27.2 23.5 28.3 44.2 25.4 22.2 30.5 26.5\n",
            " 33.7 23.1 32.  29.9 23.9 28.5 26.4 20.2 33.6 38.6 39.2 27.7 31.4 36.5\n",
            " 33.2 32.8 40.4 25.3 30.2 47.5 20.3 30.  28.9 28.1 31.1 21.7 27.  24.1\n",
            " 45.9 44.1 22.9 29.1 32.3 41.1 25.6 29.8 26.3 26.2 29.4 24.4 28.  28.8\n",
            " 34.6 19.4 30.3 41.5 22.6 56.6 27.1 31.3 31.  31.7 35.8 28.4 20.1 26.7\n",
            " 38.7 34.9 25.  23.8 21.8 27.5 24.6 32.9 26.1 31.9 34.1 36.9 37.3 45.7\n",
            " 34.2 23.6 22.3 37.1 45.  25.5 30.8 37.4 34.5 27.9 29.5 46.  42.5 35.5\n",
            " 26.9 45.5 31.5 33.  23.4 30.7 20.5 21.5 40.  28.6 42.2 29.6 35.4 16.9\n",
            " 26.8 39.3 32.6 35.9 21.2 42.4 40.5 36.7 29.3 19.6 18.  17.6 19.1 50.1\n",
            " 17.7 54.6 35.  22.  39.4 19.7 22.5 25.2 41.8 60.9 23.7 24.5 31.2 16.\n",
            " 31.6 25.1 24.8 18.3 20.  19.5 36.  35.3 40.1 43.1 21.4 34.3 27.6 16.5\n",
            " 24.3 25.7 21.9 38.4 25.9 54.7 18.6 24.9 48.2 20.7 39.5 23.3 64.8 35.1\n",
            " 43.6 21.  47.3 16.6 21.6 15.5 35.6 16.7 41.9 16.4 17.1 29.2 37.9 44.6\n",
            " 39.6 40.3 41.6 39.  23.2 18.9 36.1 36.3 46.5 16.8 46.6 35.2 20.9 13.8\n",
            " 31.8 15.3 38.2 45.2 17.  49.8 27.8 60.2 23.  22.1 26.  44.3 51.  39.7\n",
            " 34.7 21.3 41.2 34.8 19.2 35.7 40.8 24.7 19.  32.4 34.  28.7 32.1 51.5\n",
            " 20.4 30.6 71.9 19.3 40.9 17.2 16.1 16.2 40.6 18.4 21.1 42.3 32.2 50.2\n",
            " 17.5 18.7 42.1 47.8 20.8 30.1 17.3 36.4 12.  36.2 55.7 14.4 43.  41.7\n",
            " 33.8 43.9 22.7 57.5 37.  38.5 16.3 44.  32.7 54.2 40.2 33.3 17.4 41.3\n",
            " 52.3 14.6 17.8 46.1 33.1 18.1 43.8 50.3 38.9 43.7 39.9 15.9 19.8 12.3\n",
            " 78.  38.3 41.  42.6 43.4 15.1 20.6 33.5 43.2 30.4 38.  33.4 44.9 44.7\n",
            " 37.6 39.8 53.4 55.2 42.  37.2 42.8 18.8 42.9 14.3 37.7 48.4 50.6 46.2\n",
            " 49.5 43.3 33.9 18.5 44.5 45.4 55.  54.8 19.9 17.9 15.6 52.8 15.2 66.8\n",
            " 55.1 18.2 48.5 55.9 57.3 10.3 14.1 15.7 56.  44.8 13.4 51.8 38.1 57.7\n",
            " 44.4 38.8 49.3 39.1 54.  56.1 97.6 53.9 13.7 11.5 41.4 14.2 49.4 15.4\n",
            " 45.1 49.2 48.7 53.8 42.7 48.8 52.7 53.5 50.5 15.8 45.3 14.8 51.9 63.3\n",
            " 40.7 61.2 48.  46.8 48.3 58.1 50.4 11.3 12.8 13.5 14.5 15.  59.7 47.4\n",
            " 52.5 13.2 52.9 61.6 49.9 54.3 47.9 13.  13.9 50.9 57.2 64.4 92.  50.8\n",
            " 57.9 45.8 47.6 14.  46.4 46.9 47.1 13.3 48.1 51.7 46.3 54.1 14.9]\n",
            "\n",
            "smoking_status\n",
            "['formerly smoked' 'never smoked' 'smokes' 'Unknown']\n",
            "\n",
            "stroke\n",
            "[1 0]\n"
          ]
        }
      ]
    },
    {
      "cell_type": "code",
      "source": [
        "# Verifier si on a des colonnes avec des valeurs manquanes \n",
        "\n",
        "strokes.isna().any(axis = 0)\n"
      ],
      "metadata": {
        "id": "1anLdgoOYFL6",
        "colab": {
          "base_uri": "https://localhost:8080/"
        },
        "outputId": "c54216ba-8f31-4f77-93f1-4182b02a98d1"
      },
      "execution_count": null,
      "outputs": [
        {
          "output_type": "execute_result",
          "data": {
            "text/plain": [
              "gender               False\n",
              "age                  False\n",
              "hypertension         False\n",
              "heart_disease        False\n",
              "ever_married         False\n",
              "work_type            False\n",
              "Residence_type       False\n",
              "avg_glucose_level    False\n",
              "bmi                   True\n",
              "smoking_status       False\n",
              "stroke               False\n",
              "dtype: bool"
            ]
          },
          "metadata": {},
          "execution_count": 5
        }
      ]
    },
    {
      "cell_type": "markdown",
      "source": [
        "`Remarques`: la colonne bmi(indice de masse corporelle) contient des valeurs manquantes."
      ],
      "metadata": {
        "id": "z6AE1VTl3SNy"
      }
    },
    {
      "cell_type": "markdown",
      "source": [
        "# **Visualisation des données**"
      ],
      "metadata": {
        "id": "ndYfOIGdZ_2A"
      }
    },
    {
      "cell_type": "markdown",
      "source": [
        "#### Visualisation de la distribution des valeurs des colonnes"
      ],
      "metadata": {
        "id": "nsa-_N8rDkY2"
      }
    },
    {
      "cell_type": "code",
      "source": [
        "plt.hist([strokes.gender], bins = 6,   color = ['#f27750']) ;\n",
        "#plt.hist([strokes.stroke], bins = 6) ;\n",
        "plt.ylabel('nombre')\n",
        "plt.xlabel('Genre')\n",
        "plt.title(\"Distribution des valeurs de la colonne genre\")\n",
        "plt.legend();\n",
        "\n"
      ],
      "metadata": {
        "colab": {
          "base_uri": "https://localhost:8080/",
          "height": 312
        },
        "id": "RdByYN5YZ7cU",
        "outputId": "069b9e0c-b414-4a88-ce96-c2b57a2641a3"
      },
      "execution_count": null,
      "outputs": [
        {
          "output_type": "stream",
          "name": "stderr",
          "text": [
            "No handles with labels found to put in legend.\n"
          ]
        },
        {
          "output_type": "display_data",
          "data": {
            "text/plain": [
              "<Figure size 432x288 with 1 Axes>"
            ],
            "image/png": "[encoded data removed]"
          },
          "metadata": {
            "needs_background": "light"
          }
        }
      ]
    },
    {
      "cell_type": "code",
      "source": [
        "#plt.bar(strokes.gender, strokes.stroke,  label = \"Produit1\")\n",
        "\n",
        "strokes.groupby(['gender','stroke']).size().unstack().plot(kind='bar',stacked=False, title = \"Strokes en fonction du genre\")\n",
        "plt.show()"
      ],
      "metadata": {
        "colab": {
          "base_uri": "https://localhost:8080/",
          "height": 321
        },
        "id": "KnxLcpXbZFse",
        "outputId": "3b294d36-2c70-4a65-c46c-b5f9070b7965"
      },
      "execution_count": null,
      "outputs": [
        {
          "output_type": "display_data",
          "data": {
            "text/plain": [
              "<Figure size 432x288 with 1 Axes>"
            ],
            "image/png": "[encoded data removed]"
          },
          "metadata": {
            "needs_background": "light"
          }
        }
      ]
    },
    {
      "cell_type": "code",
      "source": [
        "strokes.groupby(['smoking_status','stroke']).size().unstack().plot(kind='bar',stacked=False, title = \"Strokes en fonction de si la personne fumme ou pas\")\n",
        "plt.show()"
      ],
      "metadata": {
        "colab": {
          "base_uri": "https://localhost:8080/",
          "height": 370
        },
        "id": "3zHb5RROd2eq",
        "outputId": "e656dbb4-48a8-43db-e2e7-3222473e3e5a"
      },
      "execution_count": null,
      "outputs": [
        {
          "output_type": "display_data",
          "data": {
            "text/plain": [
              "<Figure size 432x288 with 1 Axes>"
            ],
            "image/png": "[encoded data removed]"
          },
          "metadata": {
            "needs_background": "light"
          }
        }
      ]
    },
    {
      "cell_type": "code",
      "source": [
        "strokes.groupby(['heart_disease','stroke']).size().unstack().plot(kind='bar',stacked=False, title = \"Strokes en fonction de si la personne a des pbs cardiaques ou pas \")\n",
        "plt.show()"
      ],
      "metadata": {
        "colab": {
          "base_uri": "https://localhost:8080/",
          "height": 293
        },
        "id": "PPJ7lxAneXWU",
        "outputId": "9b015805-2edf-4f17-fe12-5e0a404a2ffc"
      },
      "execution_count": null,
      "outputs": [
        {
          "output_type": "display_data",
          "data": {
            "text/plain": [
              "<Figure size 432x288 with 1 Axes>"
            ],
            "image/png": "[encoded data removed]"
          },
          "metadata": {
            "needs_background": "light"
          }
        }
      ]
    },
    {
      "cell_type": "code",
      "source": [
        "\n",
        "labels = [\"No Hypertension\", \"Hypertension\"]\n",
        "values = strokes['hypertension'].value_counts().tolist()\n",
        "plt.pie(x=values, labels=labels, autopct=\"%1.1f%%\",colors=['#FF9933','#19FF66'],shadow=True,startangle=45,explode=[0.1, 0.15])\n",
        "plt.title(\"Hypertension\", fontdict={'fontsize': 12},fontweight ='bold')"
      ],
      "metadata": {
        "colab": {
          "base_uri": "https://localhost:8080/",
          "height": 282
        },
        "id": "ZEXTjId2j9Tz",
        "outputId": "45c48be0-fd4e-4f1e-cab4-d28d82c75cce"
      },
      "execution_count": null,
      "outputs": [
        {
          "output_type": "execute_result",
          "data": {
            "text/plain": [
              "Text(0.5, 1.0, 'Hypertension')"
            ]
          },
          "metadata": {},
          "execution_count": 10
        },
        {
          "output_type": "display_data",
          "data": {
            "text/plain": [
              "<Figure size 432x288 with 1 Axes>"
            ],
            "image/png": "[encoded data removed]"
          },
          "metadata": {}
        }
      ]
    },
    {
      "cell_type": "code",
      "source": [
        "labels = [\"Private\", \"Self-Employed\", \"Children\", \"Govt Job\", \"Never Worked\"]\n",
        "values = strokes['work_type'].value_counts().tolist()\n",
        "plt.pie(x=values, labels=labels, autopct=\"%1.1f%%\", colors=['#66b3ff','#FF9933','#19FF66','#FF6699','#000066'],shadow=True, startangle=45,explode=[0.1, 0.1, 0.1, 0.1, 0.2])\n",
        "plt.title(\"Work Type\", fontdict={'fontsize': 12},fontweight ='bold')"
      ],
      "metadata": {
        "colab": {
          "base_uri": "https://localhost:8080/",
          "height": 282
        },
        "id": "rK83rckFlI79",
        "outputId": "d0cf83c0-acc7-4278-b86b-3a9a964c7c3a"
      },
      "execution_count": null,
      "outputs": [
        {
          "output_type": "execute_result",
          "data": {
            "text/plain": [
              "Text(0.5, 1.0, 'Work Type')"
            ]
          },
          "metadata": {},
          "execution_count": 11
        },
        {
          "output_type": "display_data",
          "data": {
            "text/plain": [
              "<Figure size 432x288 with 1 Axes>"
            ],
            "image/png": "[encoded data removed]"
          },
          "metadata": {}
        }
      ]
    },
    {
      "cell_type": "markdown",
      "source": [
        "#### Clustering des données"
      ],
      "metadata": {
        "id": "xR6A0F3e3ozN"
      }
    },
    {
      "cell_type": "code",
      "source": [
        "from sklearn.cluster import KMeans\n",
        "from sklearn.metrics import silhouette_score\n",
        "\n",
        "from sklearn.preprocessing import RobustScaler, StandardScaler\n",
        "\n",
        "scaler = RobustScaler()\n",
        "\n",
        "strokes_df = strokes.join(pd.get_dummies(strokes['gender'], prefix='gender'))\n",
        "strokes_df = strokes.join(pd.get_dummies(strokes['smoking_status'], prefix='smoking_status'))\n",
        "strokes_df = strokes.join(pd.get_dummies(strokes['work_type'], prefix='work_type'))\n",
        "strokes_df = strokes.join(pd.get_dummies(strokes['heart_disease'], prefix='heart_disease'))\n",
        "strokes_df = strokes.join(pd.get_dummies(strokes['hypertension'], prefix='hypertension'))\n",
        "strokes_df = strokes.join(pd.get_dummies(strokes['Residence_type'], prefix='Residence_type'))\n",
        "strokes_df = strokes.join(pd.get_dummies(strokes['ever_married'], prefix='ever_married'))\n",
        "\n",
        "columns_to_drop = ['ever_married','Residence_type', 'hypertension','heart_disease','work_type','smoking_status', 'gender', 'stroke']\n",
        "data = strokes_df.drop(columns_to_drop,axis=1).fillna(strokes_df.mean())\n",
        "labels = strokes['stroke']\n",
        "K = np.arange(2,15).tolist()\n",
        "\n",
        "liste=[]\n",
        "for k in K:\n",
        "    k_means=KMeans(n_clusters=k, random_state=42)\n",
        "    k_means.fit(data)\n",
        "    liste.append(silhouette_score(data,k_means.labels_))\n",
        "\n",
        "# On affiche le graphique\n",
        "\n",
        "plt.figure(dpi=150)\n",
        "plt.plot(K, liste)\n",
        "plt.xticks(np.arange(min(np.arange(2,15)), max(np.arange(2,15))+1, 1.0))\n",
        "\n",
        "# On définit le nom des axes\n",
        "\n",
        "plt.xlabel(\"Nombre de clusters (k)\")\n",
        "plt.ylabel(\"Silhouette Score\")\n",
        "plt.show();"
      ],
      "metadata": {
        "colab": {
          "base_uri": "https://localhost:8080/",
          "height": 600
        },
        "id": "KbTjqM3U3sC-",
        "outputId": "0b99723b-9799-4d85-c4b8-ac1d4291e231"
      },
      "execution_count": 12,
      "outputs": [
        {
          "output_type": "stream",
          "name": "stderr",
          "text": [
            "/usr/local/lib/python3.7/dist-packages/ipykernel_launcher.py:17: FutureWarning: Dropping of nuisance columns in DataFrame reductions (with 'numeric_only=None') is deprecated; in a future version this will raise TypeError.  Select only valid columns before calling the reduction.\n"
          ]
        },
        {
          "output_type": "display_data",
          "data": {
            "text/plain": [
              "<Figure size 900x600 with 1 Axes>"
            ],
            "image/png": "[encoded data removed]"
          },
          "metadata": {
            "needs_background": "light"
          }
        }
      ]
    },
    {
      "cell_type": "markdown",
      "source": [
        "`Remarques`: d'après le graphique, le nomnbre de clusters optimal est 2 car c'est le nombre qui maximise le silhouette score."
      ],
      "metadata": {
        "id": "ebteO6AW-UzO"
      }
    },
    {
      "cell_type": "code",
      "source": [
        "print(data.shape)\n",
        "print(labels.shape)"
      ],
      "metadata": {
        "colab": {
          "base_uri": "https://localhost:8080/"
        },
        "id": "yu56ScItAt_3",
        "outputId": "00c19c8f-5cc7-4ab9-ba70-df7ace2d8989"
      },
      "execution_count": null,
      "outputs": [
        {
          "output_type": "stream",
          "name": "stdout",
          "text": [
            "(5110, 5)\n",
            "(5110,)\n"
          ]
        }
      ]
    },
    {
      "cell_type": "code",
      "source": [
        "# Nous choisissons deux clusters\n",
        "\n",
        "data_2 = data.copy()\n",
        "\n",
        "kmeans_2 = KMeans(n_clusters=2, random_state=42)\n",
        "\n",
        "kmeans_2.fit_predict(scaler.fit(data_2).transform(data_2) )\n",
        "\n",
        "data_2['cluster']=pd.Series(kmeans_2.labels_,  index=data_2.index)\n"
      ],
      "metadata": {
        "id": "wEavRWSB92ry"
      },
      "execution_count": 13,
      "outputs": []
    },
    {
      "cell_type": "code",
      "source": [
        "# Vérification de l'homogéneité des clusters\n",
        "\n",
        "data_2=pd.DataFrame(data_2['cluster'])\n",
        "data_2['stroke']=pd.Series(labels)\n",
        "\n",
        "\n",
        "print(\"Choix de 2 clusters : \\n\")\n",
        "for i in range(0,2):\n",
        "    print(\"Cluster\",i,\": \\n\", data_2.loc[data_2['cluster']==i]['stroke'].value_counts(),\"\\n\")\n",
        "    "
      ],
      "metadata": {
        "colab": {
          "base_uri": "https://localhost:8080/"
        },
        "id": "H1n-bqoG-RBT",
        "outputId": "430986dd-923c-4ae6-94ae-f3541490610e"
      },
      "execution_count": 14,
      "outputs": [
        {
          "output_type": "stream",
          "name": "stdout",
          "text": [
            "Choix de 2 clusters : \n",
            "\n",
            "Cluster 0 : \n",
            " 0    3137\n",
            "1     221\n",
            "Name: stroke, dtype: int64 \n",
            "\n",
            "Cluster 1 : \n",
            " 0    1724\n",
            "1      28\n",
            "Name: stroke, dtype: int64 \n",
            "\n"
          ]
        }
      ]
    },
    {
      "cell_type": "markdown",
      "source": [
        "`Remarques`: les clusters ne sont pas homogènes. Le premier cluster contient la majorité des points pour les deux classes. Mais le second cluster contient un nombre non négligeable de points. "
      ],
      "metadata": {
        "id": "aNNexHz2EoF7"
      }
    },
    {
      "cell_type": "markdown",
      "source": [
        "# **Analyse exploratoire du jeu de données**"
      ],
      "metadata": {
        "id": "7k4xCd1xrc9a"
      }
    },
    {
      "cell_type": "markdown",
      "source": [
        "#### Relations entre variables  quantitatives"
      ],
      "metadata": {
        "id": "zYCJIWburvoz"
      }
    },
    {
      "cell_type": "markdown",
      "source": [
        "La matrice de corrélation nous permet de mesurer les niveaux de corrélation entre les variables quantitatives du jeu de données."
      ],
      "metadata": {
        "id": "KsOa-nwWsEGK"
      }
    },
    {
      "cell_type": "code",
      "source": [
        "import seaborn as sns\n",
        "from scipy.stats import pearsonr\n",
        "\n",
        "cor = strokes.corr()\n",
        "\n",
        "fig, ax = plt.subplots(figsize=(12,12))\n",
        "sns.heatmap(cor, annot=True, ax=ax, cmap='coolwarm');"
      ],
      "metadata": {
        "id": "oAJ4xiMCsMjN",
        "colab": {
          "base_uri": "https://localhost:8080/",
          "height": 705
        },
        "outputId": "561aa669-8208-4594-a795-afc9b3487b52"
      },
      "execution_count": 15,
      "outputs": [
        {
          "output_type": "display_data",
          "data": {
            "text/plain": [
              "<Figure size 864x864 with 2 Axes>"
            ],
            "image/png": "[encoded data removed]"
          },
          "metadata": {
            "needs_background": "light"
          }
        }
      ]
    },
    {
      "cell_type": "code",
      "source": [
        "strokes1 = strokes.fillna(strokes.median()) # la méthode pearsonr ne supporte pas les NA. Et nous en avons sur la colonne bmi\n",
        "\n",
        "# Relation entre les variables age et taux moyen de glucose\n",
        "pd.DataFrame(pearsonr(strokes1['age'], strokes1['avg_glucose_level']), index=['pearson_coeff','p-value'], columns=['test'])\n"
      ],
      "metadata": {
        "id": "R47DIRuCsygx",
        "colab": {
          "base_uri": "https://localhost:8080/",
          "height": 112
        },
        "outputId": "1d581edb-6532-4f6a-efcb-5f5638050aea"
      },
      "execution_count": null,
      "outputs": [
        {
          "output_type": "execute_result",
          "data": {
            "text/plain": [
              "                       test\n",
              "pearson_coeff  2.358382e-01\n",
              "p-value        5.075105e-63"
            ],
            "text/html": [
              "\n",
              "  <div id=\"df-9263532a-c3ed-4848-9cb0-33781e111148\">\n",
              "    <div class=\"colab-df-container\">\n",
              "      <div>\n",
              "<style scoped>\n",
              "    .dataframe tbody tr th:only-of-type {\n",
              "        vertical-align: middle;\n",
              "    }\n",
              "\n",
              "    .dataframe tbody tr th {\n",
              "        vertical-align: top;\n",
              "    }\n",
              "\n",
              "    .dataframe thead th {\n",
              "        text-align: right;\n",
              "    }\n",
              "</style>\n",
              "<table border=\"1\" class=\"dataframe\">\n",
              "  <thead>\n",
              "    <tr style=\"text-align: right;\">\n",
              "      <th></th>\n",
              "      <th>test</th>\n",
              "    </tr>\n",
              "  </thead>\n",
              "  <tbody>\n",
              "    <tr>\n",
              "      <th>pearson_coeff</th>\n",
              "      <td>2.358382e-01</td>\n",
              "    </tr>\n",
              "    <tr>\n",
              "      <th>p-value</th>\n",
              "      <td>5.075105e-63</td>\n",
              "    </tr>\n",
              "  </tbody>\n",
              "</table>\n",
              "</div>\n",
              "      <button class=\"colab-df-convert\" onclick=\"convertToInteractive('df-9263532a-c3ed-4848-9cb0-33781e111148')\"\n",
              "              title=\"Convert this dataframe to an interactive table.\"\n",
              "              style=\"display:none;\">\n",
              "        \n",
              "  <svg xmlns=\"http://www.w3.org/2000/svg\" height=\"24px\"viewBox=\"0 0 24 24\"\n",
              "       width=\"24px\">\n",
              "    <path d=\"M0 0h24v24H0V0z\" fill=\"none\"/>\n",
              "    <path d=\"M18.56 5.44l.94 2.06.94-2.06 2.06-.94-2.06-.94-.94-2.06-.94 2.06-2.06.94zm-11 1L8.5 8.5l.94-2.06 2.06-.94-2.06-.94L8.5 2.5l-.94 2.06-2.06.94zm10 10l.94 2.06.94-2.06 2.06-.94-2.06-.94-.94-2.06-.94 2.06-2.06.94z\"/><path d=\"M17.41 7.96l-1.37-1.37c-.4-.4-.92-.59-1.43-.59-.52 0-1.04.2-1.43.59L10.3 9.45l-7.72 7.72c-.78.78-.78 2.05 0 2.83L4 21.41c.39.39.9.59 1.41.59.51 0 1.02-.2 1.41-.59l7.78-7.78 2.81-2.81c.8-.78.8-2.07 0-2.86zM5.41 20L4 18.59l7.72-7.72 1.47 1.35L5.41 20z\"/>\n",
              "  </svg>\n",
              "      </button>\n",
              "      \n",
              "  <style>\n",
              "    .colab-df-container {\n",
              "      display:flex;\n",
              "      flex-wrap:wrap;\n",
              "      gap: 12px;\n",
              "    }\n",
              "\n",
              "    .colab-df-convert {\n",
              "      background-color: #E8F0FE;\n",
              "      border: none;\n",
              "      border-radius: 50%;\n",
              "      cursor: pointer;\n",
              "      display: none;\n",
              "      fill: #1967D2;\n",
              "      height: 32px;\n",
              "      padding: 0 0 0 0;\n",
              "      width: 32px;\n",
              "    }\n",
              "\n",
              "    .colab-df-convert:hover {\n",
              "      background-color: #E2EBFA;\n",
              "      box-shadow: 0px 1px 2px rgba(60, 64, 67, 0.3), 0px 1px 3px 1px rgba(60, 64, 67, 0.15);\n",
              "      fill: #174EA6;\n",
              "    }\n",
              "\n",
              "    [theme=dark] .colab-df-convert {\n",
              "      background-color: #3B4455;\n",
              "      fill: #D2E3FC;\n",
              "    }\n",
              "\n",
              "    [theme=dark] .colab-df-convert:hover {\n",
              "      background-color: #434B5C;\n",
              "      box-shadow: 0px 1px 3px 1px rgba(0, 0, 0, 0.15);\n",
              "      filter: drop-shadow(0px 1px 2px rgba(0, 0, 0, 0.3));\n",
              "      fill: #FFFFFF;\n",
              "    }\n",
              "  </style>\n",
              "\n",
              "      <script>\n",
              "        const buttonEl =\n",
              "          document.querySelector('#df-9263532a-c3ed-4848-9cb0-33781e111148 button.colab-df-convert');\n",
              "        buttonEl.style.display =\n",
              "          google.colab.kernel.accessAllowed ? 'block' : 'none';\n",
              "\n",
              "        async function convertToInteractive(key) {\n",
              "          const element = document.querySelector('#df-9263532a-c3ed-4848-9cb0-33781e111148');\n",
              "          const dataTable =\n",
              "            await google.colab.kernel.invokeFunction('convertToInteractive',\n",
              "                                                     [key], {});\n",
              "          if (!dataTable) return;\n",
              "\n",
              "          const docLinkHtml = 'Like what you see? Visit the ' +\n",
              "            '<a target=\"_blank\" href=https://colab.research.google.com/notebooks/data_table.ipynb>data table notebook</a>'\n",
              "            + ' to learn more about interactive tables.';\n",
              "          element.innerHTML = '';\n",
              "          dataTable['output_type'] = 'display_data';\n",
              "          await google.colab.output.renderOutput(dataTable, element);\n",
              "          const docLink = document.createElement('div');\n",
              "          docLink.innerHTML = docLinkHtml;\n",
              "          element.appendChild(docLink);\n",
              "        }\n",
              "      </script>\n",
              "    </div>\n",
              "  </div>\n",
              "  "
            ]
          },
          "metadata": {},
          "execution_count": 17
        }
      ]
    },
    {
      "cell_type": "code",
      "source": [
        "# Relation entre les variables l'indice de masse corporelle et age\n",
        "pd.DataFrame(pearsonr(strokes1['bmi'].dropna(), strokes1['age']), index=['pearson_coeff','p-value'], columns=['test'])"
      ],
      "metadata": {
        "id": "PmX32UZAtPjY",
        "colab": {
          "base_uri": "https://localhost:8080/",
          "height": 112
        },
        "outputId": "6c3f88f9-b879-4941-d4b1-e4bbae27fd01"
      },
      "execution_count": null,
      "outputs": [
        {
          "output_type": "execute_result",
          "data": {
            "text/plain": [
              "                        test\n",
              "pearson_coeff   3.333980e-01\n",
              "p-value        9.515845e-128"
            ],
            "text/html": [
              "\n",
              "  <div id=\"df-42eec21b-e11b-4303-9867-3d9afe0e038d\">\n",
              "    <div class=\"colab-df-container\">\n",
              "      <div>\n",
              "<style scoped>\n",
              "    .dataframe tbody tr th:only-of-type {\n",
              "        vertical-align: middle;\n",
              "    }\n",
              "\n",
              "    .dataframe tbody tr th {\n",
              "        vertical-align: top;\n",
              "    }\n",
              "\n",
              "    .dataframe thead th {\n",
              "        text-align: right;\n",
              "    }\n",
              "</style>\n",
              "<table border=\"1\" class=\"dataframe\">\n",
              "  <thead>\n",
              "    <tr style=\"text-align: right;\">\n",
              "      <th></th>\n",
              "      <th>test</th>\n",
              "    </tr>\n",
              "  </thead>\n",
              "  <tbody>\n",
              "    <tr>\n",
              "      <th>pearson_coeff</th>\n",
              "      <td>3.333980e-01</td>\n",
              "    </tr>\n",
              "    <tr>\n",
              "      <th>p-value</th>\n",
              "      <td>9.515845e-128</td>\n",
              "    </tr>\n",
              "  </tbody>\n",
              "</table>\n",
              "</div>\n",
              "      <button class=\"colab-df-convert\" onclick=\"convertToInteractive('df-42eec21b-e11b-4303-9867-3d9afe0e038d')\"\n",
              "              title=\"Convert this dataframe to an interactive table.\"\n",
              "              style=\"display:none;\">\n",
              "        \n",
              "  <svg xmlns=\"http://www.w3.org/2000/svg\" height=\"24px\"viewBox=\"0 0 24 24\"\n",
              "       width=\"24px\">\n",
              "    <path d=\"M0 0h24v24H0V0z\" fill=\"none\"/>\n",
              "    <path d=\"M18.56 5.44l.94 2.06.94-2.06 2.06-.94-2.06-.94-.94-2.06-.94 2.06-2.06.94zm-11 1L8.5 8.5l.94-2.06 2.06-.94-2.06-.94L8.5 2.5l-.94 2.06-2.06.94zm10 10l.94 2.06.94-2.06 2.06-.94-2.06-.94-.94-2.06-.94 2.06-2.06.94z\"/><path d=\"M17.41 7.96l-1.37-1.37c-.4-.4-.92-.59-1.43-.59-.52 0-1.04.2-1.43.59L10.3 9.45l-7.72 7.72c-.78.78-.78 2.05 0 2.83L4 21.41c.39.39.9.59 1.41.59.51 0 1.02-.2 1.41-.59l7.78-7.78 2.81-2.81c.8-.78.8-2.07 0-2.86zM5.41 20L4 18.59l7.72-7.72 1.47 1.35L5.41 20z\"/>\n",
              "  </svg>\n",
              "      </button>\n",
              "      \n",
              "  <style>\n",
              "    .colab-df-container {\n",
              "      display:flex;\n",
              "      flex-wrap:wrap;\n",
              "      gap: 12px;\n",
              "    }\n",
              "\n",
              "    .colab-df-convert {\n",
              "      background-color: #E8F0FE;\n",
              "      border: none;\n",
              "      border-radius: 50%;\n",
              "      cursor: pointer;\n",
              "      display: none;\n",
              "      fill: #1967D2;\n",
              "      height: 32px;\n",
              "      padding: 0 0 0 0;\n",
              "      width: 32px;\n",
              "    }\n",
              "\n",
              "    .colab-df-convert:hover {\n",
              "      background-color: #E2EBFA;\n",
              "      box-shadow: 0px 1px 2px rgba(60, 64, 67, 0.3), 0px 1px 3px 1px rgba(60, 64, 67, 0.15);\n",
              "      fill: #174EA6;\n",
              "    }\n",
              "\n",
              "    [theme=dark] .colab-df-convert {\n",
              "      background-color: #3B4455;\n",
              "      fill: #D2E3FC;\n",
              "    }\n",
              "\n",
              "    [theme=dark] .colab-df-convert:hover {\n",
              "      background-color: #434B5C;\n",
              "      box-shadow: 0px 1px 3px 1px rgba(0, 0, 0, 0.15);\n",
              "      filter: drop-shadow(0px 1px 2px rgba(0, 0, 0, 0.3));\n",
              "      fill: #FFFFFF;\n",
              "    }\n",
              "  </style>\n",
              "\n",
              "      <script>\n",
              "        const buttonEl =\n",
              "          document.querySelector('#df-42eec21b-e11b-4303-9867-3d9afe0e038d button.colab-df-convert');\n",
              "        buttonEl.style.display =\n",
              "          google.colab.kernel.accessAllowed ? 'block' : 'none';\n",
              "\n",
              "        async function convertToInteractive(key) {\n",
              "          const element = document.querySelector('#df-42eec21b-e11b-4303-9867-3d9afe0e038d');\n",
              "          const dataTable =\n",
              "            await google.colab.kernel.invokeFunction('convertToInteractive',\n",
              "                                                     [key], {});\n",
              "          if (!dataTable) return;\n",
              "\n",
              "          const docLinkHtml = 'Like what you see? Visit the ' +\n",
              "            '<a target=\"_blank\" href=https://colab.research.google.com/notebooks/data_table.ipynb>data table notebook</a>'\n",
              "            + ' to learn more about interactive tables.';\n",
              "          element.innerHTML = '';\n",
              "          dataTable['output_type'] = 'display_data';\n",
              "          await google.colab.output.renderOutput(dataTable, element);\n",
              "          const docLink = document.createElement('div');\n",
              "          docLink.innerHTML = docLinkHtml;\n",
              "          element.appendChild(docLink);\n",
              "        }\n",
              "      </script>\n",
              "    </div>\n",
              "  </div>\n",
              "  "
            ]
          },
          "metadata": {},
          "execution_count": 18
        }
      ]
    },
    {
      "cell_type": "code",
      "source": [
        "# Relation entre les variables taux moyen de glucose et l'indice de masse corporelle\n",
        "pd.DataFrame(pearsonr(strokes1['avg_glucose_level'], strokes1['bmi']), index=['pearson_coeff','p-value'], columns=['test'])"
      ],
      "metadata": {
        "id": "02NQb_XxtjLC",
        "colab": {
          "base_uri": "https://localhost:8080/",
          "height": 112
        },
        "outputId": "e561c162-fa80-4423-d961-88fa53d5b3d8"
      },
      "execution_count": null,
      "outputs": [
        {
          "output_type": "execute_result",
          "data": {
            "text/plain": [
              "                       test\n",
              "pearson_coeff  1.755022e-01\n",
              "p-value        2.976203e-35"
            ],
            "text/html": [
              "\n",
              "  <div id=\"df-3c66d657-38d8-40b8-8c62-8bf59d1f4d29\">\n",
              "    <div class=\"colab-df-container\">\n",
              "      <div>\n",
              "<style scoped>\n",
              "    .dataframe tbody tr th:only-of-type {\n",
              "        vertical-align: middle;\n",
              "    }\n",
              "\n",
              "    .dataframe tbody tr th {\n",
              "        vertical-align: top;\n",
              "    }\n",
              "\n",
              "    .dataframe thead th {\n",
              "        text-align: right;\n",
              "    }\n",
              "</style>\n",
              "<table border=\"1\" class=\"dataframe\">\n",
              "  <thead>\n",
              "    <tr style=\"text-align: right;\">\n",
              "      <th></th>\n",
              "      <th>test</th>\n",
              "    </tr>\n",
              "  </thead>\n",
              "  <tbody>\n",
              "    <tr>\n",
              "      <th>pearson_coeff</th>\n",
              "      <td>1.755022e-01</td>\n",
              "    </tr>\n",
              "    <tr>\n",
              "      <th>p-value</th>\n",
              "      <td>2.976203e-35</td>\n",
              "    </tr>\n",
              "  </tbody>\n",
              "</table>\n",
              "</div>\n",
              "      <button class=\"colab-df-convert\" onclick=\"convertToInteractive('df-3c66d657-38d8-40b8-8c62-8bf59d1f4d29')\"\n",
              "              title=\"Convert this dataframe to an interactive table.\"\n",
              "              style=\"display:none;\">\n",
              "        \n",
              "  <svg xmlns=\"http://www.w3.org/2000/svg\" height=\"24px\"viewBox=\"0 0 24 24\"\n",
              "       width=\"24px\">\n",
              "    <path d=\"M0 0h24v24H0V0z\" fill=\"none\"/>\n",
              "    <path d=\"M18.56 5.44l.94 2.06.94-2.06 2.06-.94-2.06-.94-.94-2.06-.94 2.06-2.06.94zm-11 1L8.5 8.5l.94-2.06 2.06-.94-2.06-.94L8.5 2.5l-.94 2.06-2.06.94zm10 10l.94 2.06.94-2.06 2.06-.94-2.06-.94-.94-2.06-.94 2.06-2.06.94z\"/><path d=\"M17.41 7.96l-1.37-1.37c-.4-.4-.92-.59-1.43-.59-.52 0-1.04.2-1.43.59L10.3 9.45l-7.72 7.72c-.78.78-.78 2.05 0 2.83L4 21.41c.39.39.9.59 1.41.59.51 0 1.02-.2 1.41-.59l7.78-7.78 2.81-2.81c.8-.78.8-2.07 0-2.86zM5.41 20L4 18.59l7.72-7.72 1.47 1.35L5.41 20z\"/>\n",
              "  </svg>\n",
              "      </button>\n",
              "      \n",
              "  <style>\n",
              "    .colab-df-container {\n",
              "      display:flex;\n",
              "      flex-wrap:wrap;\n",
              "      gap: 12px;\n",
              "    }\n",
              "\n",
              "    .colab-df-convert {\n",
              "      background-color: #E8F0FE;\n",
              "      border: none;\n",
              "      border-radius: 50%;\n",
              "      cursor: pointer;\n",
              "      display: none;\n",
              "      fill: #1967D2;\n",
              "      height: 32px;\n",
              "      padding: 0 0 0 0;\n",
              "      width: 32px;\n",
              "    }\n",
              "\n",
              "    .colab-df-convert:hover {\n",
              "      background-color: #E2EBFA;\n",
              "      box-shadow: 0px 1px 2px rgba(60, 64, 67, 0.3), 0px 1px 3px 1px rgba(60, 64, 67, 0.15);\n",
              "      fill: #174EA6;\n",
              "    }\n",
              "\n",
              "    [theme=dark] .colab-df-convert {\n",
              "      background-color: #3B4455;\n",
              "      fill: #D2E3FC;\n",
              "    }\n",
              "\n",
              "    [theme=dark] .colab-df-convert:hover {\n",
              "      background-color: #434B5C;\n",
              "      box-shadow: 0px 1px 3px 1px rgba(0, 0, 0, 0.15);\n",
              "      filter: drop-shadow(0px 1px 2px rgba(0, 0, 0, 0.3));\n",
              "      fill: #FFFFFF;\n",
              "    }\n",
              "  </style>\n",
              "\n",
              "      <script>\n",
              "        const buttonEl =\n",
              "          document.querySelector('#df-3c66d657-38d8-40b8-8c62-8bf59d1f4d29 button.colab-df-convert');\n",
              "        buttonEl.style.display =\n",
              "          google.colab.kernel.accessAllowed ? 'block' : 'none';\n",
              "\n",
              "        async function convertToInteractive(key) {\n",
              "          const element = document.querySelector('#df-3c66d657-38d8-40b8-8c62-8bf59d1f4d29');\n",
              "          const dataTable =\n",
              "            await google.colab.kernel.invokeFunction('convertToInteractive',\n",
              "                                                     [key], {});\n",
              "          if (!dataTable) return;\n",
              "\n",
              "          const docLinkHtml = 'Like what you see? Visit the ' +\n",
              "            '<a target=\"_blank\" href=https://colab.research.google.com/notebooks/data_table.ipynb>data table notebook</a>'\n",
              "            + ' to learn more about interactive tables.';\n",
              "          element.innerHTML = '';\n",
              "          dataTable['output_type'] = 'display_data';\n",
              "          await google.colab.output.renderOutput(dataTable, element);\n",
              "          const docLink = document.createElement('div');\n",
              "          docLink.innerHTML = docLinkHtml;\n",
              "          element.appendChild(docLink);\n",
              "        }\n",
              "      </script>\n",
              "    </div>\n",
              "  </div>\n",
              "  "
            ]
          },
          "metadata": {},
          "execution_count": 19
        }
      ]
    },
    {
      "cell_type": "markdown",
      "source": [
        "`Remarques`: \n",
        "- Les relations entre ces trois différentes variables ne sont pas négligeables(p-value < 0.05) mais le score < 0.5 semblent montrer que ces relations ne sont pas très importantes.  "
      ],
      "metadata": {
        "id": "vb0hAG1-t2GU"
      }
    },
    {
      "cell_type": "markdown",
      "source": [
        "#### Relations entre variables  qualitatives"
      ],
      "metadata": {
        "id": "qklSqv6XuKZO"
      }
    },
    {
      "cell_type": "markdown",
      "source": [
        "Pour étudier les relations entre  les variables qualitatives, nous utilisons une `table de contingence`, un `test du chi2` et le `V de Cramer`. La table de contingence nous permet de comparer les proportions des valeurs prises par deux ou plusieurs variables catégorielles. Le test du Khi2 permet d'avoir les éléments de relation entre deux variables qualitatives. Le V de Cramer nous permet d'avoir un score de la relation entre deux variables catégorielles à l'image de score de Pearson pour les variables quantitatives. Nous étudions précisément les relations entre les variables qualitatives et la variable cible."
      ],
      "metadata": {
        "id": "gTs4HAmLuve8"
      }
    },
    {
      "cell_type": "code",
      "source": [
        "# Ici, ous construisons le jeu de données composé uniquement des variables catégorielles. Les transformatios ot été effectuées momentanément pour les besoins de cet analyse\n",
        "# Nous transformons les valeurs  sur les variables qualitatives\n",
        "strokes2 = strokes.copy()\n",
        "\n",
        "strokes2['hypertension'] = strokes2['hypertension'].replace([1,0], ['True','False'])\n",
        "strokes2['heart_disease'] = strokes2['heart_disease'].replace([1,0], ['True','False'])\n",
        "strokes2['stroke'] = strokes2['stroke'].replace([1,0], ['True','False'])\n",
        "\n",
        "categorical = strokes2.select_dtypes(include='O')"
      ],
      "metadata": {
        "id": "AbCxRjzjxYdb"
      },
      "execution_count": null,
      "outputs": []
    },
    {
      "cell_type": "code",
      "source": [
        "from scipy.stats import chi2_contingency\n",
        "import numpy as np\n",
        "\n",
        "def V_Cramer(contingence_table, n_observations):\n",
        "    \"\"\"\n",
        "      Nous définissons le V de Cramer ci-dessous; Elle permet d'avoir le score\n",
        "    \"\"\"\n",
        "    khi2 = chi2_contingency(contingence_table)[0] # on récupère la statistique de test (première valeur)\n",
        "    k = contingence_table.shape[0]\n",
        "    r = contingence_table.shape[1]\n",
        "    phi2 = max(0, khi2/n_observations - ( ((k-1)*(r-1)) / (n_observations-1) ) )\n",
        "    \n",
        "    ktilde = k - (k-1)**2/(n_observations - 1)\n",
        "    rtilde = r - (r-1)**2/(n_observations - 1)\n",
        "    \n",
        "    mintilde = min(ktilde - 1, rtilde - 1)\n",
        "    \n",
        "    V = np.sqrt(phi2/mintilde)\n",
        "    \n",
        "    return V\n",
        "\n",
        "def analyzeColumn(feature):\n",
        "    \"\"\"\n",
        "    Cette fonction est utilisée pour analyser les features\n",
        "    Elle prend en argument le nom du feaure à analyser et retourne \n",
        "    les scores Cramer, la statistique de testet le p-value.\n",
        "    \n",
        "    \"\"\"\n",
        "    table = pd.crosstab(categorical[feature], categorical['stroke'])\n",
        "    corr_chi2 = chi2_contingency(table)\n",
        "\n",
        "    d = pd.DataFrame(corr_chi2, index=['statistic','p-value', 'liberty_degre','frequencies'], \n",
        "                    columns=['result'])\n",
        "    print(\"Details test \", \"\\n\" )\n",
        "\n",
        "    print( d.head(6))\n",
        "\n",
        "    v_feature = V_Cramer(table, categorical.shape[0]) \n",
        "    print(\"V de cramer : \", v_feature, \"\\n\" )"
      ],
      "metadata": {
        "id": "LlWiSczHwclf"
      },
      "execution_count": null,
      "outputs": []
    },
    {
      "cell_type": "code",
      "source": [
        "# Etude genre et infarctus\n",
        "\n",
        "analyzeColumn('gender')"
      ],
      "metadata": {
        "id": "mTGBAi1Hz6oD",
        "colab": {
          "base_uri": "https://localhost:8080/"
        },
        "outputId": "f590aa6e-bbf0-41a3-d2bc-6f6ffcfeda34"
      },
      "execution_count": null,
      "outputs": [
        {
          "output_type": "stream",
          "name": "stdout",
          "text": [
            "Details test  \n",
            "\n",
            "                                                          result\n",
            "statistic                                               0.472587\n",
            "p-value                                                 0.789549\n",
            "liberty_degre                                                  2\n",
            "frequencies    [[2848.108414872798, 145.89158512720155], [201...\n",
            "V de cramer :  0.0 \n",
            "\n"
          ]
        }
      ]
    },
    {
      "cell_type": "markdown",
      "source": [
        "`Remarques`: le V de cramer est nul et le p-value du test est > 0.05, il semble ne pas y avoir de relation entre le genre et le fait que l'individu ait subi un infarctus"
      ],
      "metadata": {
        "id": "jPD--Eeb0AR2"
      }
    },
    {
      "cell_type": "code",
      "source": [
        "# Etude hypertension et infarctus\n",
        "\n",
        "analyzeColumn('hypertension')\n"
      ],
      "metadata": {
        "id": "jXujmq7Wz8E8",
        "colab": {
          "base_uri": "https://localhost:8080/"
        },
        "outputId": "24f3a6fc-9b3c-4f1e-d67a-77dc751a8250"
      },
      "execution_count": null,
      "outputs": [
        {
          "output_type": "stream",
          "name": "stdout",
          "text": [
            "Details test  \n",
            "\n",
            "                                                          result\n",
            "statistic                                              81.605368\n",
            "p-value                                                      0.0\n",
            "liberty_degre                                                  1\n",
            "frequencies    [[4387.266536203522, 224.7334637964775], [473....\n",
            "V de cramer :  0.1256069045133085 \n",
            "\n"
          ]
        }
      ]
    },
    {
      "cell_type": "markdown",
      "source": [
        "`Remarques`: le V de cramer est non nul et le p-value du test est < 0.05, il semble qu'il y ait une relation non négligeable entre la présence ou non de l'hypertension  et le fait que l'individu ait subi un infarctus"
      ],
      "metadata": {
        "id": "ELUGggIMGPos"
      }
    },
    {
      "cell_type": "code",
      "source": [
        "# Etude heart_disease et infarctus\n",
        "\n",
        "analyzeColumn('heart_disease')"
      ],
      "metadata": {
        "id": "6aYbsl61GbbF",
        "colab": {
          "base_uri": "https://localhost:8080/"
        },
        "outputId": "06bd73e9-966f-4187-cbc9-779233a1f6bd"
      },
      "execution_count": null,
      "outputs": [
        {
          "output_type": "stream",
          "name": "stdout",
          "text": [
            "Details test  \n",
            "\n",
            "                                                          result\n",
            "statistic                                              90.259561\n",
            "p-value                                                      0.0\n",
            "liberty_degre                                                  1\n",
            "frequencies    [[4598.4489236790605, 235.55107632093933], [26...\n",
            "V de cramer :  0.1321779325804356 \n",
            "\n"
          ]
        }
      ]
    },
    {
      "cell_type": "markdown",
      "source": [
        " `Remarques`: le V de cramer est non nul et le p-value du test est < 0.05, il semble qu'il y ait une relation non négligeable entre la présence ou non de maladie cardiaque  et le fait que l'individu ait subi un infarctus"
      ],
      "metadata": {
        "id": "6paT8YSNGfy-"
      }
    },
    {
      "cell_type": "code",
      "source": [
        "# Etude ever_married et infarctus\n",
        "\n",
        "analyzeColumn('ever_married')"
      ],
      "metadata": {
        "id": "oejTOildGqvD",
        "colab": {
          "base_uri": "https://localhost:8080/"
        },
        "outputId": "1abd893d-e3c8-44cb-d146-85837c3a8990"
      },
      "execution_count": null,
      "outputs": [
        {
          "output_type": "stream",
          "name": "stdout",
          "text": [
            "Details test  \n",
            "\n",
            "                                                          result\n",
            "statistic                                               58.92389\n",
            "p-value                                                      0.0\n",
            "liberty_degre                                                  1\n",
            "frequencies    [[1671.3849315068494, 85.61506849315069], [318...\n",
            "V de cramer :  0.10647807334277677 \n",
            "\n"
          ]
        }
      ]
    },
    {
      "cell_type": "markdown",
      "source": [
        "`Remarques`: le V de cramer est non nul et le p-value du test est < 0.05, il semble qu'il y ait une relation non négligeable entre le fait que la personne ait été une fois marrié  et le fait que l'individu ait subi un infarctus"
      ],
      "metadata": {
        "id": "6uyxekbjGr8P"
      }
    },
    {
      "cell_type": "code",
      "source": [
        "# Etude Residence_type et infarctus\n",
        "\n",
        "analyzeColumn('Residence_type')"
      ],
      "metadata": {
        "id": "ORKMvD0AGy8r",
        "colab": {
          "base_uri": "https://localhost:8080/"
        },
        "outputId": "05a72b84-591b-4fe5-a53b-2c1b0ec16020"
      },
      "execution_count": null,
      "outputs": [
        {
          "output_type": "stream",
          "name": "stdout",
          "text": [
            "Details test  \n",
            "\n",
            "                                                          result\n",
            "statistic                                               1.081637\n",
            "p-value                                                 0.298332\n",
            "liberty_degre                                                  1\n",
            "frequencies    [[2391.4978473581214, 122.50215264187867], [24...\n",
            "V de cramer :  0.003992580152454577 \n",
            "\n"
          ]
        }
      ]
    },
    {
      "cell_type": "markdown",
      "source": [
        "`Remarques`: le V de cramer est très faible et le p-value du test est > 0.05, il semble qu'il n'y ait pas une relation entre le type de résidence et le fait que l'individu ait subi un infarctus"
      ],
      "metadata": {
        "id": "NCCKSeexG2Iv"
      }
    },
    {
      "cell_type": "code",
      "source": [
        "# Etude smoking_status et infarctus\n",
        "\n",
        "analyzeColumn('smoking_status')"
      ],
      "metadata": {
        "id": "hTye4DGBHBVt",
        "colab": {
          "base_uri": "https://localhost:8080/"
        },
        "outputId": "1ed16428-8c0e-43a4-a80a-3f4d1842f380"
      },
      "execution_count": null,
      "outputs": [
        {
          "output_type": "stream",
          "name": "stdout",
          "text": [
            "Details test  \n",
            "\n",
            "                                                          result\n",
            "statistic                                              29.147269\n",
            "p-value                                                 0.000002\n",
            "liberty_degre                                                  3\n",
            "frequencies    [[1468.7639921722114, 75.23600782778865], [841...\n",
            "V de cramer :  0.07153858559970024 \n",
            "\n"
          ]
        }
      ]
    },
    {
      "cell_type": "markdown",
      "source": [
        "`Remarques`: le V de cramer est faible et le p-value du test est < 0.05, il semble qu'il y ai une relation non négligeable entre le fait que l'individu fume et le fait qu'il ait subi un infarctus"
      ],
      "metadata": {
        "id": "R8_kBNBUHCD8"
      }
    },
    {
      "cell_type": "markdown",
      "source": [
        "#  **Preprocessing et création du modèle en utilisant une régression logistique** \n",
        "\n",
        "---\n",
        "\n",
        "\n",
        "\n"
      ],
      "metadata": {
        "id": "ZQfjhDQVHSSK"
      }
    },
    {
      "cell_type": "markdown",
      "source": [
        "Dans cette partie, nous faisons le pré-traitement des données du fait que les modèles de Machine Learning ne prennent en compte que des valeurs numériques puis nous entraînons un modèle de classification en utilisant une régression logistique.\n",
        "Dans le pré-processing, nous allons :\n",
        "*   Transformer les variables catégorielles en numériques en utilisant le OneHotEncoding\n",
        "*   Gérer les NaN sur les colonnes quantitatives en utilisant la médiane\n",
        "*   Scaler l'ensemble des features\n",
        "\n",
        "Dans la partie création du modèle, nous allons:\n",
        "\n",
        "* dans un premier temps instancier un modèle de regréssion logistique avec les paramètres par défaut (maxtIter=100)\n",
        "* dans un second temps, utiliser la validation croisée avec différentes valeurs de paramètres pour avoir les paramètres optimaux du modèle\n",
        "\n",
        "Nous utilisons les pipelines. Un pipeline nous permet d'enchaîner les transformations (préprocessing des variables) et l'algorithme. Il permet égaement de tester plusieurs paramètres par cross-validation."
      ],
      "metadata": {
        "id": "4f-nq6-UIJzX"
      }
    },
    {
      "cell_type": "code",
      "source": [
        "from sklearn.preprocessing import OneHotEncoder\n",
        "from sklearn.preprocessing import RobustScaler\n",
        "from sklearn.impute import SimpleImputer\n",
        "from sklearn.compose import ColumnTransformer\n",
        "from sklearn.pipeline import Pipeline\n",
        "from sklearn.linear_model import LogisticRegression\n",
        "from sklearn.model_selection import train_test_split\n",
        "from sklearn.model_selection import GridSearchCV\n",
        "from sklearn.metrics import accuracy_score, f1_score\n",
        "from sklearn.metrics import balanced_accuracy_score\n",
        "from sklearn.metrics import roc_auc_score\n",
        "\n",
        "\n",
        "#Ici, nous récupérons le jeu de données des features\n",
        "X = strokes.drop(['stroke'], axis=1)\n",
        "\n",
        "# Ici, nous récupérons le jeu de données correspondant à la variable cible\n",
        "y = strokes['stroke']\n"
      ],
      "metadata": {
        "id": "4Xw-Gl5LKK7G"
      },
      "execution_count": 33,
      "outputs": []
    },
    {
      "cell_type": "code",
      "source": [
        "# Création des tâches de préprocessing\n",
        "\n",
        "categorical_columns=['ever_married','Residence_type', 'hypertension','heart_disease','work_type','smoking_status', 'gender']\n",
        "\n",
        "# Transformer pour les colonnes numériques\n",
        "numerical_columns= ['age', 'bmi', 'avg_glucose_level']\n",
        "\n",
        "numeric_transformer = Pipeline(\n",
        "    steps=[(\"imputer\", SimpleImputer(strategy=\"median\")), (\"scaler\", RobustScaler())]\n",
        ")\n",
        "\n",
        "# Pré-traitement: onehotencoding pour les variables catégorielles et imputation par médiane et scaling pour les colonnes numériques\n",
        "preprocessor = ColumnTransformer(transformers = [\n",
        "    ('categories', OneHotEncoder(handle_unknown=\"ignore\"), categorical_columns), \n",
        "                                      ('numerics', numeric_transformer, numerical_columns)])"
      ],
      "metadata": {
        "id": "wngmRKqrLG72"
      },
      "execution_count": 34,
      "outputs": []
    },
    {
      "cell_type": "code",
      "source": [
        "# Classifieur de régression logistique\n",
        "\n",
        "classifier = Pipeline(\n",
        "    steps=[(\"preprocessor\", preprocessor), (\"classifier\", LogisticRegression(solver=\"newton-cg\"))]\n",
        "\n",
        ")"
      ],
      "metadata": {
        "id": "y2wePt3yLe1c"
      },
      "execution_count": 35,
      "outputs": []
    },
    {
      "cell_type": "code",
      "source": [
        "# Séparation des jeux de données d'entraînement et de test\n",
        "X_train, X_test, y_train, y_test = train_test_split(X, y, test_size=0.20, random_state=42)\n"
      ],
      "metadata": {
        "id": "VwjbYXlYL7or"
      },
      "execution_count": 36,
      "outputs": []
    },
    {
      "cell_type": "code",
      "source": [
        "classifier.fit(X_train, y_train)\n",
        "print(\"Model score: %.3f\" % classifier.score(X_test, y_test))"
      ],
      "metadata": {
        "id": "M5MO6lMpMC_2",
        "colab": {
          "base_uri": "https://localhost:8080/"
        },
        "outputId": "f28125b8-5279-462c-8b44-d4ce8dc23e26"
      },
      "execution_count": 37,
      "outputs": [
        {
          "output_type": "stream",
          "name": "stdout",
          "text": [
            "Model score: 0.939\n"
          ]
        }
      ]
    },
    {
      "cell_type": "markdown",
      "source": [
        "`Conclusion`: le score du modèle avec utilisant du train_test_split est égal à `0.939`"
      ],
      "metadata": {
        "id": "on4V3X6TMGJG"
      }
    },
    {
      "cell_type": "code",
      "source": [
        "# Autres mesures de performance\n",
        "\n",
        "y_pred = classifier.predict(X_test)\n",
        "\n",
        "bac = balanced_accuracy_score(y_test, y_pred)\n",
        "ac = accuracy_score(y_test, y_pred)\n",
        "f1 = f1_score(y_test, y_pred)\n",
        "\n",
        "print(\"Accuracy: \", ac)\n",
        "print(\"Balanced accuracy: \", bac)\n",
        "print(\"F1 score: \", f1)\n"
      ],
      "metadata": {
        "id": "M7fxHMsLMPvA",
        "colab": {
          "base_uri": "https://localhost:8080/"
        },
        "outputId": "328bad31-0088-4e25-e916-3a1bff4a6dce"
      },
      "execution_count": 38,
      "outputs": [
        {
          "output_type": "stream",
          "name": "stdout",
          "text": [
            "Accuracy:  0.9393346379647749\n",
            "Balanced accuracy:  0.5\n",
            "F1 score:  0.0\n"
          ]
        }
      ]
    },
    {
      "cell_type": "markdown",
      "source": [
        "`Conclusion`: les valeurs de l'accuracy et du balanced accuracy sont très éloignés. Il semble y avoir un déséquilibre des classes."
      ],
      "metadata": {
        "id": "oc3n8Ic7Mbax"
      }
    },
    {
      "cell_type": "markdown",
      "source": [
        "`Proportion de la distribution des classes`"
      ],
      "metadata": {
        "id": "uavTejQxJL-R"
      }
    },
    {
      "cell_type": "code",
      "source": [
        "from collections import Counter\n",
        "from numpy import where\n",
        "\n",
        "classes = y\n",
        "features = X\n",
        "\n",
        "# Distribution des classes\n",
        "counter = Counter(classes)\n",
        "\n",
        "print(counter)"
      ],
      "metadata": {
        "colab": {
          "base_uri": "https://localhost:8080/"
        },
        "id": "G-BEj4CkJBxo",
        "outputId": "fcbe5053-5bd8-473d-bee0-081be572cba2"
      },
      "execution_count": null,
      "outputs": [
        {
          "output_type": "stream",
          "name": "stdout",
          "text": [
            "Counter({0: 4861, 1: 249})\n"
          ]
        }
      ]
    },
    {
      "cell_type": "markdown",
      "source": [
        "#### Déséquilibre des classes\n",
        "Du fait qu'il y ait un déséquilibre des classes dans notre dataset, nous rajoutons le paramètre `class_weight='balanced'` à la régression logistique  pour permettre à l'algorithme de prendre en compte le déséquilibre."
      ],
      "metadata": {
        "id": "TFCaVHXnMr0r"
      }
    },
    {
      "cell_type": "markdown",
      "source": [
        "Ici, nous utilisons la valisation croisée pour déterminer les paramètres optimaux : paramètre de régularisation de la régression logistique et méthode d'imputation des NaN etc."
      ],
      "metadata": {
        "id": "GJ8pWURsNbCo"
      }
    },
    {
      "cell_type": "code",
      "source": [
        "# Redéfinition du classifieur:\n",
        "classifier = Pipeline(\n",
        "    steps=[(\"preprocessor\", preprocessor), (\"classifier\", LogisticRegression(class_weight='balanced', solver=\"newton-cg\"))]\n",
        "\n",
        ")\n",
        "\n",
        "# Création de la grille de paramètres\n",
        "param_grid = {\n",
        "    \"preprocessor__numerics__imputer__strategy\": [\"mean\", \"median\"],\n",
        "    \"classifier__C\": [0.1, 1.0, 5.0, 8.0, 10, 100],\n",
        "    \"classifier__max_iter\": [100, 150, 250, 500, 10000],\n",
        "    \"classifier__tol\": [0.1, 0.2, 0.5, 1.0]\n",
        "}"
      ],
      "metadata": {
        "id": "rZVSBl3-Nlr5"
      },
      "execution_count": 39,
      "outputs": []
    },
    {
      "cell_type": "code",
      "source": [
        "# Instanciation de la grille de recherche des paramètres optimaux\n",
        "grid_search = GridSearchCV(classifier, param_grid, cv=10)"
      ],
      "metadata": {
        "id": "55jIvf2xNzvk"
      },
      "execution_count": 40,
      "outputs": []
    },
    {
      "cell_type": "code",
      "source": [
        "#  Affichage des paramètres optimaux\n",
        "\n",
        "grid_search.fit(X_train, y_train)\n",
        "print(\"Paramètres optimaux:  \",  grid_search.best_params_)"
      ],
      "metadata": {
        "id": "bpu8ysHiN5M_",
        "colab": {
          "base_uri": "https://localhost:8080/"
        },
        "outputId": "a67c4d09-e3a6-4da1-9578-a57caf5278cb"
      },
      "execution_count": 41,
      "outputs": [
        {
          "output_type": "stream",
          "name": "stdout",
          "text": [
            "Paramètres optimaux:   {'classifier__C': 5.0, 'classifier__max_iter': 100, 'classifier__tol': 0.5, 'preprocessor__numerics__imputer__strategy': 'median'}\n"
          ]
        }
      ]
    },
    {
      "cell_type": "markdown",
      "source": [
        "`Conclusion`: les paramètres optimaux pour le modèle sont :\n",
        "-  pour l'imputation des valeurs manquantes: la médiane\n",
        "-  pour la régularisation de la régression logistique: 5.0\n",
        "- le nombre maximum d'itérations pour convergence : 100"
      ],
      "metadata": {
        "id": "o_5vU0oOONqK"
      }
    },
    {
      "cell_type": "markdown",
      "source": [
        "##### Construction du modèle final"
      ],
      "metadata": {
        "id": "zz2dlXgMOYFB"
      }
    },
    {
      "cell_type": "code",
      "source": [
        "# Transformeur final des variables numériques\n",
        "numeric_transformer_final = Pipeline(\n",
        "    steps=[(\"imputer\", SimpleImputer(strategy=\"median\")), (\"scaler\", RobustScaler())]\n",
        ")\n",
        "\n",
        "preprocessor_final = ColumnTransformer(transformers = [\n",
        "    ('categories', OneHotEncoder(handle_unknown=\"ignore\"), categorical_columns),\n",
        "                                      ('numerics', numeric_transformer_final, numerical_columns)])\n",
        "\n",
        "classifier_final = Pipeline(\n",
        "    steps=[(\"preprocessor\", preprocessor_final), (\"classifier\", LogisticRegression(solver=\"newton-cg\", C=5.0, max_iter=100, tol=0.5, class_weight='balanced'))]\n",
        "    \n",
        ")\n",
        "\n",
        "classifier_final.fit(X_train, y_train)\n",
        "print(\"Model score: %.3f\" % classifier_final.score(X_test, y_test))\n",
        "\n"
      ],
      "metadata": {
        "id": "hRRKqXx1OgXN",
        "colab": {
          "base_uri": "https://localhost:8080/"
        },
        "outputId": "702be8bd-e3bb-419b-e5b0-590a94c6a5ab"
      },
      "execution_count": 42,
      "outputs": [
        {
          "output_type": "stream",
          "name": "stdout",
          "text": [
            "Model score: 0.750\n"
          ]
        }
      ]
    },
    {
      "cell_type": "markdown",
      "source": [
        "Prédiction et mesure de performances"
      ],
      "metadata": {
        "id": "OvIh3kScOv5s"
      }
    },
    {
      "cell_type": "code",
      "source": [
        "y_pred = classifier_final.predict(X_test)"
      ],
      "metadata": {
        "id": "tk99YfSEOzUV"
      },
      "execution_count": 43,
      "outputs": []
    },
    {
      "cell_type": "code",
      "source": [
        "# Calcul des autres indicateurs \n",
        "print(\"Accuracy: \", accuracy_score(y_test, y_pred))\n",
        "print(\"Balanced accuracy: \", balanced_accuracy_score(y_test, y_pred))\n",
        "print(\"ROC AUC: \", roc_auc_score(y_test, y_pred))"
      ],
      "metadata": {
        "id": "KKMricAbO2dL",
        "colab": {
          "base_uri": "https://localhost:8080/"
        },
        "outputId": "9a249fd9-ef8c-42b9-a112-6363415e5a24"
      },
      "execution_count": 44,
      "outputs": [
        {
          "output_type": "stream",
          "name": "stdout",
          "text": [
            "Accuracy:  0.7495107632093934\n",
            "Balanced accuracy:  0.7685987903225806\n",
            "ROC AUC:  0.7685987903225805\n"
          ]
        }
      ]
    },
    {
      "cell_type": "markdown",
      "source": [
        "`Conclusion`: L'accuracy a diminué mais le modèle ne souffre plus du déséquilibre des classes. Le ROC AUC est supérieur à 0.5 donc le modèle est meileur qu'un modèle aléatoire."
      ],
      "metadata": {
        "id": "wslTeZp-O774"
      }
    },
    {
      "cell_type": "markdown",
      "source": [
        "#### Gestion du déséquilibre par oversampling\n",
        "Dans cette partie, nous allons utiliser une technique d'oversampling pour gérer le déséquilibre des classes."
      ],
      "metadata": {
        "id": "EU-sf60U8kZb"
      }
    },
    {
      "cell_type": "code",
      "source": [
        "from imblearn.over_sampling import SMOTE\n",
        "from imblearn.under_sampling import RandomUnderSampler\n",
        "from imblearn.pipeline import Pipeline"
      ],
      "metadata": {
        "id": "zvQRryfV8rNG"
      },
      "execution_count": 45,
      "outputs": []
    },
    {
      "cell_type": "code",
      "source": [
        "# Création des étapes de notre pipeline\n",
        "\n",
        "over = SMOTE(sampling_strategy=0.2, random_state=42) # Augmentation de la classe minoritaire\n",
        "under = RandomUnderSampler(sampling_strategy=0.2, random_state=42)\n",
        "\n",
        "# Nous allons utiliser le même étape de prétraitement que pour les modèles précédents\n",
        "\n",
        "pipeline = Pipeline(\n",
        "    steps=[(\"preprocessor\", preprocessor_final), \n",
        "           ('over', over), \n",
        "           ('under', under),\n",
        "           (\"classifier\", LogisticRegression(solver=\"newton-cg\", C=5, max_iter=100, tol=1.0, class_weight='balanced'))]\n",
        "\n",
        ")\n",
        "# Entraînement\n",
        "pipeline.fit(X_train, y_train)\n"
      ],
      "metadata": {
        "colab": {
          "base_uri": "https://localhost:8080/"
        },
        "id": "6cYICb2i85uf",
        "outputId": "bd7e95a1-47d5-4ecb-f680-56105c383d0b"
      },
      "execution_count": 46,
      "outputs": [
        {
          "output_type": "execute_result",
          "data": {
            "text/plain": [
              "Pipeline(steps=[('preprocessor',\n",
              "                 ColumnTransformer(transformers=[('categories',\n",
              "                                                  OneHotEncoder(handle_unknown='ignore'),\n",
              "                                                  ['ever_married',\n",
              "                                                   'Residence_type',\n",
              "                                                   'hypertension',\n",
              "                                                   'heart_disease', 'work_type',\n",
              "                                                   'smoking_status',\n",
              "                                                   'gender']),\n",
              "                                                 ('numerics',\n",
              "                                                  Pipeline(steps=[('imputer',\n",
              "                                                                   SimpleImputer(strategy='median')),\n",
              "                                                                  ('scaler',\n",
              "                                                                   RobustScaler())]),\n",
              "                                                  ['age', 'bmi',\n",
              "                                                   'avg_glucose_level'])])),\n",
              "                ('over', SMOTE(random_state=42, sampling_strategy=0.2)),\n",
              "                ('under',\n",
              "                 RandomUnderSampler(random_state=42, sampling_strategy=0.2)),\n",
              "                ('classifier',\n",
              "                 LogisticRegression(C=5, class_weight='balanced',\n",
              "                                    solver='newton-cg', tol=1.0))])"
            ]
          },
          "metadata": {},
          "execution_count": 46
        }
      ]
    },
    {
      "cell_type": "code",
      "source": [
        "# Test\n",
        "y_pred_1 = pipeline.predict(X_test)\n",
        "\n",
        "print(\"Accuracy: \", accuracy_score(y_test, y_pred_1))\n",
        "print(\"Balanced accuracy: \", balanced_accuracy_score(y_test, y_pred_1))\n",
        "print(\"ROC AUC: \", roc_auc_score(y_test, y_pred_1))"
      ],
      "metadata": {
        "colab": {
          "base_uri": "https://localhost:8080/"
        },
        "id": "3VCXXBYv9P13",
        "outputId": "d5cf7354-51ae-4bba-c466-defc3ddb8bdf"
      },
      "execution_count": 47,
      "outputs": [
        {
          "output_type": "stream",
          "name": "stdout",
          "text": [
            "Accuracy:  0.7504892367906066\n",
            "Balanced accuracy:  0.7842069892473118\n",
            "ROC AUC:  0.7842069892473119\n"
          ]
        }
      ]
    },
    {
      "cell_type": "markdown",
      "source": [
        "# **Classification par utilisation des forêts aléatoires**\n",
        "\n",
        "---\n",
        "\n"
      ],
      "metadata": {
        "id": "KI6V7Rl9P1et"
      }
    },
    {
      "cell_type": "markdown",
      "source": [
        "Dans cette partie, nous utilisons l'algorithme des forêts aléatoires pour effectuer la classification: RandomForestClassifier sous scikit learn."
      ],
      "metadata": {
        "id": "PoCGPTSbMkh1"
      }
    },
    {
      "cell_type": "code",
      "source": [
        "from sklearn.preprocessing import LabelEncoder\n",
        "##strokes1. drop('bmi', axis=1, inplace=True)\n",
        "encoder = LabelEncoder()\n",
        "\n",
        "strokes1 = strokes.fillna(strokes.median()).copy()\n",
        "strokes1['gender'] = encoder.fit_transform(strokes1['gender'])\n",
        "gender = {index : label for index, label in enumerate(encoder.classes_)}\n",
        "gender\n"
      ],
      "metadata": {
        "colab": {
          "base_uri": "https://localhost:8080/"
        },
        "id": "VEyEUBJ4R5rZ",
        "outputId": "c3e73d79-45a4-4eeb-9d95-8004adb4f27c"
      },
      "execution_count": 49,
      "outputs": [
        {
          "output_type": "stream",
          "name": "stderr",
          "text": [
            "/usr/local/lib/python3.7/dist-packages/ipykernel_launcher.py:5: FutureWarning: Dropping of nuisance columns in DataFrame reductions (with 'numeric_only=None') is deprecated; in a future version this will raise TypeError.  Select only valid columns before calling the reduction.\n",
            "  \"\"\"\n"
          ]
        },
        {
          "output_type": "execute_result",
          "data": {
            "text/plain": [
              "{0: 'Female', 1: 'Male', 2: 'Other'}"
            ]
          },
          "metadata": {},
          "execution_count": 49
        }
      ]
    },
    {
      "cell_type": "code",
      "source": [
        "strokes1['ever_married'] = encoder.fit_transform(strokes1['ever_married'])\n",
        "ever_married = {index : label for index, label in enumerate(encoder.classes_)}\n",
        "ever_married\n"
      ],
      "metadata": {
        "colab": {
          "base_uri": "https://localhost:8080/"
        },
        "id": "r6oN_ZmESlMC",
        "outputId": "02f6beb9-edbd-4453-a565-51905be873a1"
      },
      "execution_count": 50,
      "outputs": [
        {
          "output_type": "execute_result",
          "data": {
            "text/plain": [
              "{0: 'No', 1: 'Yes'}"
            ]
          },
          "metadata": {},
          "execution_count": 50
        }
      ]
    },
    {
      "cell_type": "code",
      "source": [
        "strokes1['work_type'] = encoder.fit_transform(strokes1['work_type'])\n",
        "work_type = {index : label for index, label in enumerate(encoder.classes_)}\n",
        "work_type"
      ],
      "metadata": {
        "colab": {
          "base_uri": "https://localhost:8080/"
        },
        "id": "wl9nTsx1Sqq5",
        "outputId": "1251b9c2-68e7-44a0-ed77-ff91eee4bf18"
      },
      "execution_count": 51,
      "outputs": [
        {
          "output_type": "execute_result",
          "data": {
            "text/plain": [
              "{0: 'Govt_job',\n",
              " 1: 'Never_worked',\n",
              " 2: 'Private',\n",
              " 3: 'Self-employed',\n",
              " 4: 'children'}"
            ]
          },
          "metadata": {},
          "execution_count": 51
        }
      ]
    },
    {
      "cell_type": "code",
      "source": [
        "strokes1['Residence_type'] = encoder.fit_transform(strokes1['Residence_type'])\n",
        "Residence_type = {index : label for index, label in enumerate(encoder.classes_)}\n",
        "Residence_type"
      ],
      "metadata": {
        "colab": {
          "base_uri": "https://localhost:8080/"
        },
        "id": "9NpwHLwvSyM4",
        "outputId": "b3d13b25-eba0-4964-8061-e56891aec860"
      },
      "execution_count": 52,
      "outputs": [
        {
          "output_type": "execute_result",
          "data": {
            "text/plain": [
              "{0: 'Rural', 1: 'Urban'}"
            ]
          },
          "metadata": {},
          "execution_count": 52
        }
      ]
    },
    {
      "cell_type": "code",
      "source": [
        "strokes1['smoking_status'] = encoder.fit_transform(strokes1['smoking_status'])\n",
        "smoking_status = {index : label for index, label in enumerate(encoder.classes_)}\n",
        "smoking_status"
      ],
      "metadata": {
        "colab": {
          "base_uri": "https://localhost:8080/"
        },
        "id": "TgLDSW5oS3_U",
        "outputId": "2c9a4732-fd9d-419e-db2c-4ba8346b087f"
      },
      "execution_count": 53,
      "outputs": [
        {
          "output_type": "execute_result",
          "data": {
            "text/plain": [
              "{0: 'Unknown', 1: 'formerly smoked', 2: 'never smoked', 3: 'smokes'}"
            ]
          },
          "metadata": {},
          "execution_count": 53
        }
      ]
    },
    {
      "cell_type": "code",
      "source": [
        "strokes1.head()\n",
        "\n",
        "from sklearn.preprocessing import StandardScaler\n",
        "\n",
        "X = np.array(strokes1.drop(['stroke'], axis=1))\n",
        "y = np.array(strokes1.loc[:, 'stroke'])\n",
        "scaler = StandardScaler()\n",
        "X = scaler.fit_transform(X)\n",
        "pd.DataFrame(X).describe()"
      ],
      "metadata": {
        "colab": {
          "base_uri": "https://localhost:8080/",
          "height": 300
        },
        "id": "yzGYhnIeXoLt",
        "outputId": "a4960773-5108-4833-a7bb-14a9c4e1a464"
      },
      "execution_count": 54,
      "outputs": [
        {
          "output_type": "execute_result",
          "data": {
            "text/plain": [
              "                  0             1             2             3             4  \\\n",
              "count  5.110000e+03  5.110000e+03  5.110000e+03  5.110000e+03  5.110000e+03   \n",
              "mean  -4.859996e-16 -6.813233e-16 -2.076899e-15 -5.816797e-15 -1.190394e-15   \n",
              "std    1.000098e+00  1.000098e+00  1.000098e+00  1.000098e+00  1.000098e+00   \n",
              "min   -8.403440e-01 -1.908261e+00 -3.286019e-01 -2.389468e-01 -1.381436e+00   \n",
              "25%   -8.403440e-01 -8.061152e-01 -3.286019e-01 -2.389468e-01 -1.381436e+00   \n",
              "50%   -8.403440e-01  7.843218e-02 -3.286019e-01 -2.389468e-01  7.238842e-01   \n",
              "75%    1.188073e+00  7.860701e-01 -3.286019e-01 -2.389468e-01  7.238842e-01   \n",
              "max    3.216489e+00  1.714845e+00  3.043196e+00  4.185032e+00  7.238842e-01   \n",
              "\n",
              "                  5             6             7             8             9  \n",
              "count  5.110000e+03  5.110000e+03  5.110000e+03  5.110000e+03  5.110000e+03  \n",
              "mean   1.167581e-16 -4.984054e-17  1.012345e-16  1.021579e-16  2.602832e-17  \n",
              "std    1.000098e+00  1.000098e+00  1.000098e+00  1.000098e+00  1.000098e+00  \n",
              "min   -1.988384e+00 -1.016178e+00 -1.126958e+00 -2.411027e+00 -1.285114e+00  \n",
              "25%   -1.538364e-01 -1.016178e+00 -6.383223e-01 -6.575089e-01 -1.285114e+00  \n",
              "50%   -1.538364e-01  9.840797e-01 -3.149945e-01 -9.898092e-02  5.815523e-01  \n",
              "75%    7.634376e-01  9.840797e-01  1.754080e-01  5.115031e-01  5.815523e-01  \n",
              "max    1.680712e+00  9.840797e-01  3.657145e+00  8.928390e+00  1.514885e+00  "
            ],
            "text/html": [
              "\n",
              "  <div id=\"df-f13f8b3f-a177-438b-b743-5cadca47c295\">\n",
              "    <div class=\"colab-df-container\">\n",
              "      <div>\n",
              "<style scoped>\n",
              "    .dataframe tbody tr th:only-of-type {\n",
              "        vertical-align: middle;\n",
              "    }\n",
              "\n",
              "    .dataframe tbody tr th {\n",
              "        vertical-align: top;\n",
              "    }\n",
              "\n",
              "    .dataframe thead th {\n",
              "        text-align: right;\n",
              "    }\n",
              "</style>\n",
              "<table border=\"1\" class=\"dataframe\">\n",
              "  <thead>\n",
              "    <tr style=\"text-align: right;\">\n",
              "      <th></th>\n",
              "      <th>0</th>\n",
              "      <th>1</th>\n",
              "      <th>2</th>\n",
              "      <th>3</th>\n",
              "      <th>4</th>\n",
              "      <th>5</th>\n",
              "      <th>6</th>\n",
              "      <th>7</th>\n",
              "      <th>8</th>\n",
              "      <th>9</th>\n",
              "    </tr>\n",
              "  </thead>\n",
              "  <tbody>\n",
              "    <tr>\n",
              "      <th>count</th>\n",
              "      <td>5.110000e+03</td>\n",
              "      <td>5.110000e+03</td>\n",
              "      <td>5.110000e+03</td>\n",
              "      <td>5.110000e+03</td>\n",
              "      <td>5.110000e+03</td>\n",
              "      <td>5.110000e+03</td>\n",
              "      <td>5.110000e+03</td>\n",
              "      <td>5.110000e+03</td>\n",
              "      <td>5.110000e+03</td>\n",
              "      <td>5.110000e+03</td>\n",
              "    </tr>\n",
              "    <tr>\n",
              "      <th>mean</th>\n",
              "      <td>-4.859996e-16</td>\n",
              "      <td>-6.813233e-16</td>\n",
              "      <td>-2.076899e-15</td>\n",
              "      <td>-5.816797e-15</td>\n",
              "      <td>-1.190394e-15</td>\n",
              "      <td>1.167581e-16</td>\n",
              "      <td>-4.984054e-17</td>\n",
              "      <td>1.012345e-16</td>\n",
              "      <td>1.021579e-16</td>\n",
              "      <td>2.602832e-17</td>\n",
              "    </tr>\n",
              "    <tr>\n",
              "      <th>std</th>\n",
              "      <td>1.000098e+00</td>\n",
              "      <td>1.000098e+00</td>\n",
              "      <td>1.000098e+00</td>\n",
              "      <td>1.000098e+00</td>\n",
              "      <td>1.000098e+00</td>\n",
              "      <td>1.000098e+00</td>\n",
              "      <td>1.000098e+00</td>\n",
              "      <td>1.000098e+00</td>\n",
              "      <td>1.000098e+00</td>\n",
              "      <td>1.000098e+00</td>\n",
              "    </tr>\n",
              "    <tr>\n",
              "      <th>min</th>\n",
              "      <td>-8.403440e-01</td>\n",
              "      <td>-1.908261e+00</td>\n",
              "      <td>-3.286019e-01</td>\n",
              "      <td>-2.389468e-01</td>\n",
              "      <td>-1.381436e+00</td>\n",
              "      <td>-1.988384e+00</td>\n",
              "      <td>-1.016178e+00</td>\n",
              "      <td>-1.126958e+00</td>\n",
              "      <td>-2.411027e+00</td>\n",
              "      <td>-1.285114e+00</td>\n",
              "    </tr>\n",
              "    <tr>\n",
              "      <th>25%</th>\n",
              "      <td>-8.403440e-01</td>\n",
              "      <td>-8.061152e-01</td>\n",
              "      <td>-3.286019e-01</td>\n",
              "      <td>-2.389468e-01</td>\n",
              "      <td>-1.381436e+00</td>\n",
              "      <td>-1.538364e-01</td>\n",
              "      <td>-1.016178e+00</td>\n",
              "      <td>-6.383223e-01</td>\n",
              "      <td>-6.575089e-01</td>\n",
              "      <td>-1.285114e+00</td>\n",
              "    </tr>\n",
              "    <tr>\n",
              "      <th>50%</th>\n",
              "      <td>-8.403440e-01</td>\n",
              "      <td>7.843218e-02</td>\n",
              "      <td>-3.286019e-01</td>\n",
              "      <td>-2.389468e-01</td>\n",
              "      <td>7.238842e-01</td>\n",
              "      <td>-1.538364e-01</td>\n",
              "      <td>9.840797e-01</td>\n",
              "      <td>-3.149945e-01</td>\n",
              "      <td>-9.898092e-02</td>\n",
              "      <td>5.815523e-01</td>\n",
              "    </tr>\n",
              "    <tr>\n",
              "      <th>75%</th>\n",
              "      <td>1.188073e+00</td>\n",
              "      <td>7.860701e-01</td>\n",
              "      <td>-3.286019e-01</td>\n",
              "      <td>-2.389468e-01</td>\n",
              "      <td>7.238842e-01</td>\n",
              "      <td>7.634376e-01</td>\n",
              "      <td>9.840797e-01</td>\n",
              "      <td>1.754080e-01</td>\n",
              "      <td>5.115031e-01</td>\n",
              "      <td>5.815523e-01</td>\n",
              "    </tr>\n",
              "    <tr>\n",
              "      <th>max</th>\n",
              "      <td>3.216489e+00</td>\n",
              "      <td>1.714845e+00</td>\n",
              "      <td>3.043196e+00</td>\n",
              "      <td>4.185032e+00</td>\n",
              "      <td>7.238842e-01</td>\n",
              "      <td>1.680712e+00</td>\n",
              "      <td>9.840797e-01</td>\n",
              "      <td>3.657145e+00</td>\n",
              "      <td>8.928390e+00</td>\n",
              "      <td>1.514885e+00</td>\n",
              "    </tr>\n",
              "  </tbody>\n",
              "</table>\n",
              "</div>\n",
              "      <button class=\"colab-df-convert\" onclick=\"convertToInteractive('df-f13f8b3f-a177-438b-b743-5cadca47c295')\"\n",
              "              title=\"Convert this dataframe to an interactive table.\"\n",
              "              style=\"display:none;\">\n",
              "        \n",
              "  <svg xmlns=\"http://www.w3.org/2000/svg\" height=\"24px\"viewBox=\"0 0 24 24\"\n",
              "       width=\"24px\">\n",
              "    <path d=\"M0 0h24v24H0V0z\" fill=\"none\"/>\n",
              "    <path d=\"M18.56 5.44l.94 2.06.94-2.06 2.06-.94-2.06-.94-.94-2.06-.94 2.06-2.06.94zm-11 1L8.5 8.5l.94-2.06 2.06-.94-2.06-.94L8.5 2.5l-.94 2.06-2.06.94zm10 10l.94 2.06.94-2.06 2.06-.94-2.06-.94-.94-2.06-.94 2.06-2.06.94z\"/><path d=\"M17.41 7.96l-1.37-1.37c-.4-.4-.92-.59-1.43-.59-.52 0-1.04.2-1.43.59L10.3 9.45l-7.72 7.72c-.78.78-.78 2.05 0 2.83L4 21.41c.39.39.9.59 1.41.59.51 0 1.02-.2 1.41-.59l7.78-7.78 2.81-2.81c.8-.78.8-2.07 0-2.86zM5.41 20L4 18.59l7.72-7.72 1.47 1.35L5.41 20z\"/>\n",
              "  </svg>\n",
              "      </button>\n",
              "      \n",
              "  <style>\n",
              "    .colab-df-container {\n",
              "      display:flex;\n",
              "      flex-wrap:wrap;\n",
              "      gap: 12px;\n",
              "    }\n",
              "\n",
              "    .colab-df-convert {\n",
              "      background-color: #E8F0FE;\n",
              "      border: none;\n",
              "      border-radius: 50%;\n",
              "      cursor: pointer;\n",
              "      display: none;\n",
              "      fill: #1967D2;\n",
              "      height: 32px;\n",
              "      padding: 0 0 0 0;\n",
              "      width: 32px;\n",
              "    }\n",
              "\n",
              "    .colab-df-convert:hover {\n",
              "      background-color: #E2EBFA;\n",
              "      box-shadow: 0px 1px 2px rgba(60, 64, 67, 0.3), 0px 1px 3px 1px rgba(60, 64, 67, 0.15);\n",
              "      fill: #174EA6;\n",
              "    }\n",
              "\n",
              "    [theme=dark] .colab-df-convert {\n",
              "      background-color: #3B4455;\n",
              "      fill: #D2E3FC;\n",
              "    }\n",
              "\n",
              "    [theme=dark] .colab-df-convert:hover {\n",
              "      background-color: #434B5C;\n",
              "      box-shadow: 0px 1px 3px 1px rgba(0, 0, 0, 0.15);\n",
              "      filter: drop-shadow(0px 1px 2px rgba(0, 0, 0, 0.3));\n",
              "      fill: #FFFFFF;\n",
              "    }\n",
              "  </style>\n",
              "\n",
              "      <script>\n",
              "        const buttonEl =\n",
              "          document.querySelector('#df-f13f8b3f-a177-438b-b743-5cadca47c295 button.colab-df-convert');\n",
              "        buttonEl.style.display =\n",
              "          google.colab.kernel.accessAllowed ? 'block' : 'none';\n",
              "\n",
              "        async function convertToInteractive(key) {\n",
              "          const element = document.querySelector('#df-f13f8b3f-a177-438b-b743-5cadca47c295');\n",
              "          const dataTable =\n",
              "            await google.colab.kernel.invokeFunction('convertToInteractive',\n",
              "                                                     [key], {});\n",
              "          if (!dataTable) return;\n",
              "\n",
              "          const docLinkHtml = 'Like what you see? Visit the ' +\n",
              "            '<a target=\"_blank\" href=https://colab.research.google.com/notebooks/data_table.ipynb>data table notebook</a>'\n",
              "            + ' to learn more about interactive tables.';\n",
              "          element.innerHTML = '';\n",
              "          dataTable['output_type'] = 'display_data';\n",
              "          await google.colab.output.renderOutput(dataTable, element);\n",
              "          const docLink = document.createElement('div');\n",
              "          docLink.innerHTML = docLinkHtml;\n",
              "          element.appendChild(docLink);\n",
              "        }\n",
              "      </script>\n",
              "    </div>\n",
              "  </div>\n",
              "  "
            ]
          },
          "metadata": {},
          "execution_count": 54
        }
      ]
    },
    {
      "cell_type": "code",
      "source": [
        "from sklearn.ensemble import RandomForestClassifier\n",
        "\n",
        "from sklearn.model_selection import train_test_split\n",
        "\n",
        "print(\"# of samples: \" + str(y.shape[0]))\n",
        "\n",
        "# Splitting data into train (80%) CV (10%) test(10%)\n",
        "X_train, X_test, y_train, y_test = train_test_split(X, y, test_size = .1, stratify = y, random_state = 42)\n",
        "y_train = y_train.astype(np.float32).reshape((-1,1))\n",
        "y_test = y_test.astype(np.float32).reshape((-1,1))\n",
        "\n",
        "# #Transposing the data\n",
        "# X_train, X_test = [np.array(x).T for x in [X_train, X_test]]\n",
        "# y_train, y_test = [np.array(y).reshape(1, -1) for y in [y_train, y_test]]\n",
        "\n",
        "print(\"X_train shape: \" + str(X_train.shape) + \"\\t y_train shape:\" + str(y_train.shape))\n",
        "print(\"X_test shape:  \" + str(X_test.shape) + \"\\t y_test shape: \" + str(y_test.shape))\n",
        "\n",
        "print(sum(y_train==1))\n",
        "print(sum(y_test==1))\n",
        "\n",
        "RandomForestClassifierModel = RandomForestClassifier(criterion = 'gini',n_estimators=100,max_depth=5,random_state=33) #criterion can be also : entropy \n",
        "RandomForestClassifierModel.fit(X_train, y_train)\n",
        "\n",
        "#Calculating Details\n",
        "print('RandomForestClassifierModel Train Score is : ' , RandomForestClassifierModel.score(X_train, y_train))\n",
        "print('RandomForestClassifierModel Test Score is : ' , RandomForestClassifierModel.score(X_test, y_test))\n",
        "print('RandomForestClassifierModel features importances are : ' , RandomForestClassifierModel.feature_importances_)\n",
        "print('----------------------------------------------------')\n",
        "\n",
        "#Calculating Prediction\n",
        "y_pred = RandomForestClassifierModel.predict(X_test)\n",
        "y_pred_prob = RandomForestClassifierModel.predict_proba(X_test)\n",
        "print('Predicted Value for RandomForestClassifierModel is : ' , y_pred[:10])\n",
        "print('Prediction Probabilities Value for RandomForestClassifierModel is : ' , y_pred_prob[:10])\n"
      ],
      "metadata": {
        "colab": {
          "base_uri": "https://localhost:8080/"
        },
        "id": "bZ7uhW3xYI78",
        "outputId": "ad0d0a41-e0c7-4cd5-da26-4f70fd6d696e"
      },
      "execution_count": 55,
      "outputs": [
        {
          "output_type": "stream",
          "name": "stdout",
          "text": [
            "# of samples: 5110\n",
            "X_train shape: (4599, 10)\t y_train shape:(4599, 1)\n",
            "X_test shape:  (511, 10)\t y_test shape: (511, 1)\n",
            "[224]\n",
            "[25]\n"
          ]
        },
        {
          "output_type": "stream",
          "name": "stderr",
          "text": [
            "/usr/local/lib/python3.7/dist-packages/ipykernel_launcher.py:23: DataConversionWarning: A column-vector y was passed when a 1d array was expected. Please change the shape of y to (n_samples,), for example using ravel().\n"
          ]
        },
        {
          "output_type": "stream",
          "name": "stdout",
          "text": [
            "RandomForestClassifierModel Train Score is :  0.9512937595129376\n",
            "RandomForestClassifierModel Test Score is :  0.9510763209393346\n",
            "RandomForestClassifierModel features importances are :  [0.01299329 0.41254692 0.04263309 0.05715328 0.04002149 0.03360515\n",
            " 0.01048735 0.23373556 0.12100165 0.03582223]\n",
            "----------------------------------------------------\n",
            "Predicted Value for RandomForestClassifierModel is :  [0. 0. 0. 0. 0. 0. 0. 0. 0. 0.]\n",
            "Prediction Probabilities Value for RandomForestClassifierModel is :  [[0.91407727 0.08592273]\n",
            " [0.99224094 0.00775906]\n",
            " [0.99197974 0.00802026]\n",
            " [0.89605362 0.10394638]\n",
            " [0.99006367 0.00993633]\n",
            " [0.90634218 0.09365782]\n",
            " [0.98369906 0.01630094]\n",
            " [0.99072474 0.00927526]\n",
            " [0.95375981 0.04624019]\n",
            " [0.90103111 0.09896889]]\n"
          ]
        }
      ]
    },
    {
      "cell_type": "code",
      "source": [
        "AccScore = accuracy_score(y_test, y_pred)\n",
        "print('Accuracy Score is : ', AccScore)\n",
        "from sklearn.metrics import f1_score\n",
        "\n",
        "\n",
        "F1Score = f1_score(y_test, y_pred, average='micro') \n",
        "print('Le F1 Score is : ', F1Score)\n",
        "\n",
        "BAccScore = balanced_accuracy_score(y_test, y_pred) \n",
        "print('Balanced Accuracy Score is : ', BAccScore)"
      ],
      "metadata": {
        "colab": {
          "base_uri": "https://localhost:8080/"
        },
        "id": "D7o0wFt4r4jN",
        "outputId": "39aeda94-b400-46af-b2c9-007440b98ccb"
      },
      "execution_count": 58,
      "outputs": [
        {
          "output_type": "stream",
          "name": "stdout",
          "text": [
            "Accuracy Score is :  0.9510763209393346\n",
            "Le F1 Score is :  0.9510763209393346\n",
            "Balanced Accuracy Score is :  0.5\n"
          ]
        }
      ]
    },
    {
      "cell_type": "code",
      "source": [
        "from sklearn.metrics import confusion_matrix\n",
        "import seaborn as sns\n",
        "import matplotlib.pyplot as plt\n",
        "\n",
        "CM = confusion_matrix(y_test, y_pred)\n",
        "print('La matrice de confusion  : \\n', CM)\n",
        "\n",
        "# drawing confusion matrix\n",
        "sns.heatmap(CM, center = True,annot=True)\n",
        "plt.show()"
      ],
      "metadata": {
        "colab": {
          "base_uri": "https://localhost:8080/",
          "height": 318
        },
        "id": "pYpk3lKPslyu",
        "outputId": "089c5f68-478b-4e63-8e1e-a269f5be6789"
      },
      "execution_count": 57,
      "outputs": [
        {
          "output_type": "stream",
          "name": "stdout",
          "text": [
            "La matrice de confusion  : \n",
            " [[486   0]\n",
            " [ 25   0]]\n"
          ]
        },
        {
          "output_type": "display_data",
          "data": {
            "text/plain": [
              "<Figure size 432x288 with 2 Axes>"
            ],
            "image/png": "[encoded data removed]"
          },
          "metadata": {
            "needs_background": "light"
          }
        }
      ]
    },
    {
      "cell_type": "markdown",
      "source": [
        "# **Conclusion**\n"
      ],
      "metadata": {
        "id": "75TaXsYV08JN"
      }
    },
    {
      "cell_type": "markdown",
      "source": [
        "Sur ce notebook, nous avons travaillé sur une problématique de classification binaire.\n",
        "Nous avons entraîné deux modèles de classification :\n",
        "\n",
        "*   Une première avec une regression logistique\n",
        "*   Une seconde avec l’algorithme des forêts aléatoires. \n",
        "\n",
        "L’algorithme des forêts aléatoires a été plus performant que celui de régression logistique : L'accuracy de la regression logistique étant à 93 % et celle des forets aleatoire est de 95%.\n",
        "\n",
        "Les métriques nous ont permis de constater un déséquilibre des classes. Lors de la classification par régression logistique, ce déséquilibre a été pris en compte par utilisation des paramètres de l'algorithme. Nous avons également explorer l'utilisation de la technique d'`oversampling` pour gérer le déséquilibre des classes."
      ],
      "metadata": {
        "id": "V3IC5aviww5x"
      }
    }
  ]
}